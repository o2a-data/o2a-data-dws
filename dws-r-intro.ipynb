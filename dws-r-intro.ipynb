{
 "cells": [
  {
   "cell_type": "markdown",
   "metadata": {
    "nbpresent": {
     "id": "93ec414a-2c2f-44ef-8dc3-543e6469734a"
    }
   },
   "source": [
    "# Using data web services\n",
    "We show the use of data web services R interface for an use case: temperature data from [Svalbard](https://en.wikipedia.org/wiki/Svalbard)."
   ]
  },
  {
   "cell_type": "markdown",
   "metadata": {},
   "source": [
    "## Load data and metadata \n",
    "Source the data web service R interface. The data web service interface can be found here: https://github.com/rkoppe/dws."
   ]
  },
  {
   "cell_type": "code",
   "execution_count": 1,
   "metadata": {},
   "outputs": [
    {
     "name": "stderr",
     "output_type": "stream",
     "text": [
      "Loading required package: jsonlite\n",
      "Loading required package: httr\n"
     ]
    }
   ],
   "source": [
    "source(\"https://raw.githubusercontent.com/rkoppe/dws/master/dws.R\")"
   ]
  },
  {
   "cell_type": "markdown",
   "metadata": {},
   "source": [
    "Find some sensors offering temperature at Svalbard. Visit https://sensor.awi.de to explore platforms, devices and sensors and find useful platforms and further metadata. Platforms, devices and sensors have codes (aka urn) identifying measurements."
   ]
  },
  {
   "cell_type": "code",
   "execution_count": 2,
   "metadata": {},
   "outputs": [
    {
     "data": {
      "text/html": [
       "<table>\n",
       "<caption>A data.frame: 22 x 9</caption>\n",
       "<thead>\n",
       "\t<tr><th scope=col>id</th><th scope=col>code</th><th scope=col>logicalCode</th><th scope=col>sensor</th><th scope=col>platformId</th><th scope=col>lastDate</th><th scope=col>lastValue</th><th scope=col>lastQualityFlag</th><th scope=col>unit</th></tr>\n",
       "\t<tr><th scope=col>&lt;int&gt;</th><th scope=col>&lt;chr&gt;</th><th scope=col>&lt;chr&gt;</th><th scope=col>&lt;chr&gt;</th><th scope=col>&lt;int&gt;</th><th scope=col>&lt;chr&gt;</th><th scope=col>&lt;dbl&gt;</th><th scope=col>&lt;int&gt;</th><th scope=col>&lt;chr&gt;</th></tr>\n",
       "</thead>\n",
       "<tbody>\n",
       "\t<tr><td>1755</td><td>station:svluwobs:svluw2:ctd_181_profiling:temperature_awi_02:temperature  </td><td>station:svluwobs:svluw2:ctd_181:temperature_awi:temperature</td><td>station:svluwobs:svluw2:ctd_181_profiling:temperature_awi_02:temperature  </td><td>58</td><td>2019-06-20T08:22:19.5  </td><td>  4.810000</td><td>0</td><td>NA</td></tr>\n",
       "\t<tr><td>1257</td><td>station:svluwobs:svluw2:ctd_103:temperature_awi_01:temperature            </td><td>station:svluwobs:svluw2:ctd:temperature_awi:temperature    </td><td>station:svluwobs:svluw2:ctd_103:temperature_awi_01:temperature            </td><td>58</td><td>2015-07-24T23:50:00    </td><td>  4.948709</td><td>0</td><td>°C</td></tr>\n",
       "\t<tr><td>1765</td><td>station:svluwobs:svluw2:seafet_obsvlfr_007:ph_temperature                 </td><td>station:svluwobs:svluw2:seafet_obsvlfr:ph_temperature      </td><td>station:svluwobs:svluw2:seafet_obsvlfr_007:ph_temperature                 </td><td>58</td><td>2019-06-26T07:50:36    </td><td>  6.244600</td><td>0</td><td>NA</td></tr>\n",
       "\t<tr><td>1215</td><td>station:svluwobs:svluw2:adcp_awi_23789:temperature                        </td><td>station:svluwobs:svluw2:adcp_awi:temperature               </td><td>station:svluwobs:svluw2:adcp_awi_23789:temperature                        </td><td>58</td><td>2019-06-26T00:00:00    </td><td>546.600000</td><td>0</td><td>°C</td></tr>\n",
       "\t<tr><td>1260</td><td>station:svluwobs:svluw2:adcp_awi_17374:temperature                        </td><td>station:svluwobs:svluw2:adcp_awi:temperature               </td><td>station:svluwobs:svluw2:adcp_awi_17374:temperature                        </td><td>58</td><td>2016-12-08T02:00:00    </td><td> 83.200000</td><td>0</td><td>°C</td></tr>\n",
       "\t<tr><td>1576</td><td>station:svluwobs:fb_731101:durafet_obsvlfr_01:hw_temperature              </td><td>station:svluwobs:fb:durafet_obsvlfr:hw_temperature         </td><td>station:svluwobs:fb_731101:durafet_obsvlfr_01:hw_temperature              </td><td>58</td><td>2019-06-26T08:00:00    </td><td>  6.305250</td><td>0</td><td>NA</td></tr>\n",
       "\t<tr><td>1574</td><td>station:svluwobs:fb_731101:ph_awi_01:temperature                          </td><td>station:svluwobs:fb:ph_awi:temperature                     </td><td>station:svluwobs:fb_731101:ph_awi_01:temperature                          </td><td>58</td><td>2019-06-26T08:00:00    </td><td>  6.918072</td><td>0</td><td>NA</td></tr>\n",
       "\t<tr><td>1885</td><td>station:svluwobs:fb_731101:hydrofia_awi_0317001:invalid_temperature       </td><td>station:svluwobs:fb:hydrofia_awi:invalid_temperature       </td><td>station:svluwobs:fb_731101:hydrofia_awi_0317001:invalid_temperature       </td><td>58</td><td>2019-06-24T17:54:07    </td><td>  1.000000</td><td>0</td><td>  </td></tr>\n",
       "\t<tr><td> 750</td><td>station:svluwobs:fb_731101:oxygen_awi_574:temperature                     </td><td>station:svluwobs:fb:oxygen_awi:temperature                 </td><td>station:svluwobs:fb_731101:oxygen_awi_574:temperature                     </td><td>58</td><td>2019-06-26T08:00:00    </td><td>  6.462500</td><td>0</td><td>°C</td></tr>\n",
       "\t<tr><td>1892</td><td>station:svluwobs:fb_731101:hydrofia_awi_0317001:temperature_sample        </td><td>station:svluwobs:fb:hydrofia_awi:temperature_sample        </td><td>station:svluwobs:fb_731101:hydrofia_awi_0317001:temperature_sample        </td><td>58</td><td>2019-06-24T17:54:07    </td><td> 25.013000</td><td>0</td><td>°C</td></tr>\n",
       "\t<tr><td> 746</td><td>station:svluwobs:fb_731101:sbe45_awi_0403:temperature                     </td><td>station:svluwobs:fb:sbe45_awi:temperature                  </td><td>station:svluwobs:fb_731101:sbe45_awi_0403:temperature                     </td><td>58</td><td>2019-06-26T08:00:00    </td><td>  6.364975</td><td>0</td><td>°C</td></tr>\n",
       "\t<tr><td> 441</td><td>station:svluwobs:svluw2:ctd_181:temperature_awi_02:temperature            </td><td>station:svluwobs:svluw2:ctd:temperature_awi:temperature    </td><td>station:svluwobs:svluw2:ctd_181:temperature_awi_02:temperature            </td><td>58</td><td>2019-06-20T08:01:21.5  </td><td>  4.600000</td><td>0</td><td>°C</td></tr>\n",
       "\t<tr><td> 754</td><td>station:svluwobs:fb_731101:temperature_container_awi_01:temperature       </td><td>station:svluwobs:fb:temperature_container_awi:temperature  </td><td>station:svluwobs:fb_731101:temperature_container_awi_01:temperature       </td><td>58</td><td>2019-06-26T08:00:00    </td><td> 17.391333</td><td>0</td><td>°C</td></tr>\n",
       "\t<tr><td> 753</td><td>station:svluwobs:fb_731101:temperature_freshwater_awi_01:temperature      </td><td>station:svluwobs:fb:temperature_freshwater_awi:temperature </td><td>station:svluwobs:fb_731101:temperature_freshwater_awi_01:temperature      </td><td>58</td><td>2019-06-26T08:00:00    </td><td> 17.698000</td><td>0</td><td>°C</td></tr>\n",
       "\t<tr><td>1024</td><td>station:svluwobs:svluw2:ctd_578:temperature_awi_03:temperature            </td><td>station:svluwobs:svluw2:ctd:temperature_awi:temperature    </td><td>station:svluwobs:svluw2:ctd_578:temperature_awi_03:temperature            </td><td>58</td><td>2016-09-20T12:01:55.5  </td><td>  5.220000</td><td>0</td><td>°C</td></tr>\n",
       "\t<tr><td>1312</td><td>station:svluwobs:svluw2:ctd_964:temperature_awi_04:temperature            </td><td>station:svluwobs:svluw2:ctd:temperature_awi:temperature    </td><td>station:svluwobs:svluw2:ctd_964:temperature_awi_04:temperature            </td><td>58</td><td>2016-05-11T17:02:47.5  </td><td>  2.630000</td><td>0</td><td>°C</td></tr>\n",
       "\t<tr><td> 427</td><td>station:svluwobs:svluw2:sbe38_awi_0657:temperature                        </td><td>station:svluwobs:svluw2:sbe38_awi:temperature              </td><td>station:svluwobs:svluw2:sbe38_awi_0657:temperature                        </td><td>58</td><td>2019-06-26T08:00:39.552</td><td>  5.580000</td><td>0</td><td>°C</td></tr>\n",
       "\t<tr><td>1321</td><td>station:svluwobs:svluw2:ctd_183:temperature_awi_01:temperature            </td><td>station:svluwobs:svluw2:ctd:temperature_awi:temperature    </td><td>station:svluwobs:svluw2:ctd_183:temperature_awi_01:temperature            </td><td>58</td><td>2015-03-11T12:31:16    </td><td> -0.860000</td><td>0</td><td>°C</td></tr>\n",
       "\t<tr><td>1893</td><td>station:svluwobs:fb_731101:hydrofia_awi_0317001:temperature_box           </td><td>station:svluwobs:fb:hydrofia_awi:temperature_box           </td><td>station:svluwobs:fb_731101:hydrofia_awi_0317001:temperature_box           </td><td>58</td><td>2019-06-24T17:54:07    </td><td> 27.254000</td><td>0</td><td>°C</td></tr>\n",
       "\t<tr><td>1894</td><td>station:svluwobs:fb_731101:hydrofia_awi_0317001:temperature_sample_control</td><td>station:svluwobs:fb:hydrofia_awi:temperature_sample_control</td><td>station:svluwobs:fb_731101:hydrofia_awi_0317001:temperature_sample_control</td><td>58</td><td>2019-06-24T17:54:07    </td><td> 25.823000</td><td>0</td><td>°C</td></tr>\n",
       "\t<tr><td>1895</td><td>station:svluwobs:fb_731101:hydrofia_awi_0317001:temperature_box_control   </td><td>station:svluwobs:fb:hydrofia_awi:temperature_box_control   </td><td>station:svluwobs:fb_731101:hydrofia_awi_0317001:temperature_box_control   </td><td>58</td><td>2019-06-24T17:54:07    </td><td> 15.712000</td><td>0</td><td>°C</td></tr>\n",
       "\t<tr><td> 755</td><td>station:svluwobs:fb_731101:temperature_outside_awi_01:temperature         </td><td>station:svluwobs:fb:temperature_outside_awi:temperature    </td><td>station:svluwobs:fb_731101:temperature_outside_awi_01:temperature         </td><td>58</td><td>2019-06-26T08:00:00    </td><td>  9.149833</td><td>0</td><td>°C</td></tr>\n",
       "</tbody>\n",
       "</table>\n"
      ],
      "text/latex": [
       "A data.frame: 22 x 9\n",
       "\\begin{tabular}{r|lllllllll}\n",
       " id & code & logicalCode & sensor & platformId & lastDate & lastValue & lastQualityFlag & unit\\\\\n",
       " <int> & <chr> & <chr> & <chr> & <int> & <chr> & <dbl> & <int> & <chr>\\\\\n",
       "\\hline\n",
       "\t 1755 & station:svluwobs:svluw2:ctd\\_181\\_profiling:temperature\\_awi\\_02:temperature   & station:svluwobs:svluw2:ctd\\_181:temperature\\_awi:temperature & station:svluwobs:svluw2:ctd\\_181\\_profiling:temperature\\_awi\\_02:temperature   & 58 & 2019-06-20T08:22:19.5   &   4.810000 & 0 & NA\\\\\n",
       "\t 1257 & station:svluwobs:svluw2:ctd\\_103:temperature\\_awi\\_01:temperature             & station:svluwobs:svluw2:ctd:temperature\\_awi:temperature     & station:svluwobs:svluw2:ctd\\_103:temperature\\_awi\\_01:temperature             & 58 & 2015-07-24T23:50:00     &   4.948709 & 0 & °C\\\\\n",
       "\t 1765 & station:svluwobs:svluw2:seafet\\_obsvlfr\\_007:ph\\_temperature                  & station:svluwobs:svluw2:seafet\\_obsvlfr:ph\\_temperature       & station:svluwobs:svluw2:seafet\\_obsvlfr\\_007:ph\\_temperature                  & 58 & 2019-06-26T07:50:36     &   6.244600 & 0 & NA\\\\\n",
       "\t 1215 & station:svluwobs:svluw2:adcp\\_awi\\_23789:temperature                         & station:svluwobs:svluw2:adcp\\_awi:temperature                & station:svluwobs:svluw2:adcp\\_awi\\_23789:temperature                         & 58 & 2019-06-26T00:00:00     & 546.600000 & 0 & °C\\\\\n",
       "\t 1260 & station:svluwobs:svluw2:adcp\\_awi\\_17374:temperature                         & station:svluwobs:svluw2:adcp\\_awi:temperature                & station:svluwobs:svluw2:adcp\\_awi\\_17374:temperature                         & 58 & 2016-12-08T02:00:00     &  83.200000 & 0 & °C\\\\\n",
       "\t 1576 & station:svluwobs:fb\\_731101:durafet\\_obsvlfr\\_01:hw\\_temperature               & station:svluwobs:fb:durafet\\_obsvlfr:hw\\_temperature          & station:svluwobs:fb\\_731101:durafet\\_obsvlfr\\_01:hw\\_temperature               & 58 & 2019-06-26T08:00:00     &   6.305250 & 0 & NA\\\\\n",
       "\t 1574 & station:svluwobs:fb\\_731101:ph\\_awi\\_01:temperature                           & station:svluwobs:fb:ph\\_awi:temperature                      & station:svluwobs:fb\\_731101:ph\\_awi\\_01:temperature                           & 58 & 2019-06-26T08:00:00     &   6.918072 & 0 & NA\\\\\n",
       "\t 1885 & station:svluwobs:fb\\_731101:hydrofia\\_awi\\_0317001:invalid\\_temperature        & station:svluwobs:fb:hydrofia\\_awi:invalid\\_temperature        & station:svluwobs:fb\\_731101:hydrofia\\_awi\\_0317001:invalid\\_temperature        & 58 & 2019-06-24T17:54:07     &   1.000000 & 0 &   \\\\\n",
       "\t  750 & station:svluwobs:fb\\_731101:oxygen\\_awi\\_574:temperature                      & station:svluwobs:fb:oxygen\\_awi:temperature                  & station:svluwobs:fb\\_731101:oxygen\\_awi\\_574:temperature                      & 58 & 2019-06-26T08:00:00     &   6.462500 & 0 & °C\\\\\n",
       "\t 1892 & station:svluwobs:fb\\_731101:hydrofia\\_awi\\_0317001:temperature\\_sample         & station:svluwobs:fb:hydrofia\\_awi:temperature\\_sample         & station:svluwobs:fb\\_731101:hydrofia\\_awi\\_0317001:temperature\\_sample         & 58 & 2019-06-24T17:54:07     &  25.013000 & 0 & °C\\\\\n",
       "\t  746 & station:svluwobs:fb\\_731101:sbe45\\_awi\\_0403:temperature                      & station:svluwobs:fb:sbe45\\_awi:temperature                   & station:svluwobs:fb\\_731101:sbe45\\_awi\\_0403:temperature                      & 58 & 2019-06-26T08:00:00     &   6.364975 & 0 & °C\\\\\n",
       "\t  441 & station:svluwobs:svluw2:ctd\\_181:temperature\\_awi\\_02:temperature             & station:svluwobs:svluw2:ctd:temperature\\_awi:temperature     & station:svluwobs:svluw2:ctd\\_181:temperature\\_awi\\_02:temperature             & 58 & 2019-06-20T08:01:21.5   &   4.600000 & 0 & °C\\\\\n",
       "\t  754 & station:svluwobs:fb\\_731101:temperature\\_container\\_awi\\_01:temperature        & station:svluwobs:fb:temperature\\_container\\_awi:temperature   & station:svluwobs:fb\\_731101:temperature\\_container\\_awi\\_01:temperature        & 58 & 2019-06-26T08:00:00     &  17.391333 & 0 & °C\\\\\n",
       "\t  753 & station:svluwobs:fb\\_731101:temperature\\_freshwater\\_awi\\_01:temperature       & station:svluwobs:fb:temperature\\_freshwater\\_awi:temperature  & station:svluwobs:fb\\_731101:temperature\\_freshwater\\_awi\\_01:temperature       & 58 & 2019-06-26T08:00:00     &  17.698000 & 0 & °C\\\\\n",
       "\t 1024 & station:svluwobs:svluw2:ctd\\_578:temperature\\_awi\\_03:temperature             & station:svluwobs:svluw2:ctd:temperature\\_awi:temperature     & station:svluwobs:svluw2:ctd\\_578:temperature\\_awi\\_03:temperature             & 58 & 2016-09-20T12:01:55.5   &   5.220000 & 0 & °C\\\\\n",
       "\t 1312 & station:svluwobs:svluw2:ctd\\_964:temperature\\_awi\\_04:temperature             & station:svluwobs:svluw2:ctd:temperature\\_awi:temperature     & station:svluwobs:svluw2:ctd\\_964:temperature\\_awi\\_04:temperature             & 58 & 2016-05-11T17:02:47.5   &   2.630000 & 0 & °C\\\\\n",
       "\t  427 & station:svluwobs:svluw2:sbe38\\_awi\\_0657:temperature                         & station:svluwobs:svluw2:sbe38\\_awi:temperature               & station:svluwobs:svluw2:sbe38\\_awi\\_0657:temperature                         & 58 & 2019-06-26T08:00:39.552 &   5.580000 & 0 & °C\\\\\n",
       "\t 1321 & station:svluwobs:svluw2:ctd\\_183:temperature\\_awi\\_01:temperature             & station:svluwobs:svluw2:ctd:temperature\\_awi:temperature     & station:svluwobs:svluw2:ctd\\_183:temperature\\_awi\\_01:temperature             & 58 & 2015-03-11T12:31:16     &  -0.860000 & 0 & °C\\\\\n",
       "\t 1893 & station:svluwobs:fb\\_731101:hydrofia\\_awi\\_0317001:temperature\\_box            & station:svluwobs:fb:hydrofia\\_awi:temperature\\_box            & station:svluwobs:fb\\_731101:hydrofia\\_awi\\_0317001:temperature\\_box            & 58 & 2019-06-24T17:54:07     &  27.254000 & 0 & °C\\\\\n",
       "\t 1894 & station:svluwobs:fb\\_731101:hydrofia\\_awi\\_0317001:temperature\\_sample\\_control & station:svluwobs:fb:hydrofia\\_awi:temperature\\_sample\\_control & station:svluwobs:fb\\_731101:hydrofia\\_awi\\_0317001:temperature\\_sample\\_control & 58 & 2019-06-24T17:54:07     &  25.823000 & 0 & °C\\\\\n",
       "\t 1895 & station:svluwobs:fb\\_731101:hydrofia\\_awi\\_0317001:temperature\\_box\\_control    & station:svluwobs:fb:hydrofia\\_awi:temperature\\_box\\_control    & station:svluwobs:fb\\_731101:hydrofia\\_awi\\_0317001:temperature\\_box\\_control    & 58 & 2019-06-24T17:54:07     &  15.712000 & 0 & °C\\\\\n",
       "\t  755 & station:svluwobs:fb\\_731101:temperature\\_outside\\_awi\\_01:temperature          & station:svluwobs:fb:temperature\\_outside\\_awi:temperature     & station:svluwobs:fb\\_731101:temperature\\_outside\\_awi\\_01:temperature          & 58 & 2019-06-26T08:00:00     &   9.149833 & 0 & °C\\\\\n",
       "\\end{tabular}\n"
      ],
      "text/markdown": [
       "\n",
       "A data.frame: 22 x 9\n",
       "\n",
       "| id &lt;int&gt; | code &lt;chr&gt; | logicalCode &lt;chr&gt; | sensor &lt;chr&gt; | platformId &lt;int&gt; | lastDate &lt;chr&gt; | lastValue &lt;dbl&gt; | lastQualityFlag &lt;int&gt; | unit &lt;chr&gt; |\n",
       "|---|---|---|---|---|---|---|---|---|\n",
       "| 1755 | station:svluwobs:svluw2:ctd_181_profiling:temperature_awi_02:temperature   | station:svluwobs:svluw2:ctd_181:temperature_awi:temperature | station:svluwobs:svluw2:ctd_181_profiling:temperature_awi_02:temperature   | 58 | 2019-06-20T08:22:19.5   |   4.810000 | 0 | NA |\n",
       "| 1257 | station:svluwobs:svluw2:ctd_103:temperature_awi_01:temperature             | station:svluwobs:svluw2:ctd:temperature_awi:temperature     | station:svluwobs:svluw2:ctd_103:temperature_awi_01:temperature             | 58 | 2015-07-24T23:50:00     |   4.948709 | 0 | °C |\n",
       "| 1765 | station:svluwobs:svluw2:seafet_obsvlfr_007:ph_temperature                  | station:svluwobs:svluw2:seafet_obsvlfr:ph_temperature       | station:svluwobs:svluw2:seafet_obsvlfr_007:ph_temperature                  | 58 | 2019-06-26T07:50:36     |   6.244600 | 0 | NA |\n",
       "| 1215 | station:svluwobs:svluw2:adcp_awi_23789:temperature                         | station:svluwobs:svluw2:adcp_awi:temperature                | station:svluwobs:svluw2:adcp_awi_23789:temperature                         | 58 | 2019-06-26T00:00:00     | 546.600000 | 0 | °C |\n",
       "| 1260 | station:svluwobs:svluw2:adcp_awi_17374:temperature                         | station:svluwobs:svluw2:adcp_awi:temperature                | station:svluwobs:svluw2:adcp_awi_17374:temperature                         | 58 | 2016-12-08T02:00:00     |  83.200000 | 0 | °C |\n",
       "| 1576 | station:svluwobs:fb_731101:durafet_obsvlfr_01:hw_temperature               | station:svluwobs:fb:durafet_obsvlfr:hw_temperature          | station:svluwobs:fb_731101:durafet_obsvlfr_01:hw_temperature               | 58 | 2019-06-26T08:00:00     |   6.305250 | 0 | NA |\n",
       "| 1574 | station:svluwobs:fb_731101:ph_awi_01:temperature                           | station:svluwobs:fb:ph_awi:temperature                      | station:svluwobs:fb_731101:ph_awi_01:temperature                           | 58 | 2019-06-26T08:00:00     |   6.918072 | 0 | NA |\n",
       "| 1885 | station:svluwobs:fb_731101:hydrofia_awi_0317001:invalid_temperature        | station:svluwobs:fb:hydrofia_awi:invalid_temperature        | station:svluwobs:fb_731101:hydrofia_awi_0317001:invalid_temperature        | 58 | 2019-06-24T17:54:07     |   1.000000 | 0 | <!----> |\n",
       "|  750 | station:svluwobs:fb_731101:oxygen_awi_574:temperature                      | station:svluwobs:fb:oxygen_awi:temperature                  | station:svluwobs:fb_731101:oxygen_awi_574:temperature                      | 58 | 2019-06-26T08:00:00     |   6.462500 | 0 | °C |\n",
       "| 1892 | station:svluwobs:fb_731101:hydrofia_awi_0317001:temperature_sample         | station:svluwobs:fb:hydrofia_awi:temperature_sample         | station:svluwobs:fb_731101:hydrofia_awi_0317001:temperature_sample         | 58 | 2019-06-24T17:54:07     |  25.013000 | 0 | °C |\n",
       "|  746 | station:svluwobs:fb_731101:sbe45_awi_0403:temperature                      | station:svluwobs:fb:sbe45_awi:temperature                   | station:svluwobs:fb_731101:sbe45_awi_0403:temperature                      | 58 | 2019-06-26T08:00:00     |   6.364975 | 0 | °C |\n",
       "|  441 | station:svluwobs:svluw2:ctd_181:temperature_awi_02:temperature             | station:svluwobs:svluw2:ctd:temperature_awi:temperature     | station:svluwobs:svluw2:ctd_181:temperature_awi_02:temperature             | 58 | 2019-06-20T08:01:21.5   |   4.600000 | 0 | °C |\n",
       "|  754 | station:svluwobs:fb_731101:temperature_container_awi_01:temperature        | station:svluwobs:fb:temperature_container_awi:temperature   | station:svluwobs:fb_731101:temperature_container_awi_01:temperature        | 58 | 2019-06-26T08:00:00     |  17.391333 | 0 | °C |\n",
       "|  753 | station:svluwobs:fb_731101:temperature_freshwater_awi_01:temperature       | station:svluwobs:fb:temperature_freshwater_awi:temperature  | station:svluwobs:fb_731101:temperature_freshwater_awi_01:temperature       | 58 | 2019-06-26T08:00:00     |  17.698000 | 0 | °C |\n",
       "| 1024 | station:svluwobs:svluw2:ctd_578:temperature_awi_03:temperature             | station:svluwobs:svluw2:ctd:temperature_awi:temperature     | station:svluwobs:svluw2:ctd_578:temperature_awi_03:temperature             | 58 | 2016-09-20T12:01:55.5   |   5.220000 | 0 | °C |\n",
       "| 1312 | station:svluwobs:svluw2:ctd_964:temperature_awi_04:temperature             | station:svluwobs:svluw2:ctd:temperature_awi:temperature     | station:svluwobs:svluw2:ctd_964:temperature_awi_04:temperature             | 58 | 2016-05-11T17:02:47.5   |   2.630000 | 0 | °C |\n",
       "|  427 | station:svluwobs:svluw2:sbe38_awi_0657:temperature                         | station:svluwobs:svluw2:sbe38_awi:temperature               | station:svluwobs:svluw2:sbe38_awi_0657:temperature                         | 58 | 2019-06-26T08:00:39.552 |   5.580000 | 0 | °C |\n",
       "| 1321 | station:svluwobs:svluw2:ctd_183:temperature_awi_01:temperature             | station:svluwobs:svluw2:ctd:temperature_awi:temperature     | station:svluwobs:svluw2:ctd_183:temperature_awi_01:temperature             | 58 | 2015-03-11T12:31:16     |  -0.860000 | 0 | °C |\n",
       "| 1893 | station:svluwobs:fb_731101:hydrofia_awi_0317001:temperature_box            | station:svluwobs:fb:hydrofia_awi:temperature_box            | station:svluwobs:fb_731101:hydrofia_awi_0317001:temperature_box            | 58 | 2019-06-24T17:54:07     |  27.254000 | 0 | °C |\n",
       "| 1894 | station:svluwobs:fb_731101:hydrofia_awi_0317001:temperature_sample_control | station:svluwobs:fb:hydrofia_awi:temperature_sample_control | station:svluwobs:fb_731101:hydrofia_awi_0317001:temperature_sample_control | 58 | 2019-06-24T17:54:07     |  25.823000 | 0 | °C |\n",
       "| 1895 | station:svluwobs:fb_731101:hydrofia_awi_0317001:temperature_box_control    | station:svluwobs:fb:hydrofia_awi:temperature_box_control    | station:svluwobs:fb_731101:hydrofia_awi_0317001:temperature_box_control    | 58 | 2019-06-24T17:54:07     |  15.712000 | 0 | °C |\n",
       "|  755 | station:svluwobs:fb_731101:temperature_outside_awi_01:temperature          | station:svluwobs:fb:temperature_outside_awi:temperature     | station:svluwobs:fb_731101:temperature_outside_awi_01:temperature          | 58 | 2019-06-26T08:00:00     |   9.149833 | 0 | °C |\n",
       "\n"
      ],
      "text/plain": [
       "   id  \n",
       "1  1755\n",
       "2  1257\n",
       "3  1765\n",
       "4  1215\n",
       "5  1260\n",
       "6  1576\n",
       "7  1574\n",
       "8  1885\n",
       "9   750\n",
       "10 1892\n",
       "11  746\n",
       "12  441\n",
       "13  754\n",
       "14  753\n",
       "15 1024\n",
       "16 1312\n",
       "17  427\n",
       "18 1321\n",
       "19 1893\n",
       "20 1894\n",
       "21 1895\n",
       "22  755\n",
       "   code                                                                      \n",
       "1  station:svluwobs:svluw2:ctd_181_profiling:temperature_awi_02:temperature  \n",
       "2  station:svluwobs:svluw2:ctd_103:temperature_awi_01:temperature            \n",
       "3  station:svluwobs:svluw2:seafet_obsvlfr_007:ph_temperature                 \n",
       "4  station:svluwobs:svluw2:adcp_awi_23789:temperature                        \n",
       "5  station:svluwobs:svluw2:adcp_awi_17374:temperature                        \n",
       "6  station:svluwobs:fb_731101:durafet_obsvlfr_01:hw_temperature              \n",
       "7  station:svluwobs:fb_731101:ph_awi_01:temperature                          \n",
       "8  station:svluwobs:fb_731101:hydrofia_awi_0317001:invalid_temperature       \n",
       "9  station:svluwobs:fb_731101:oxygen_awi_574:temperature                     \n",
       "10 station:svluwobs:fb_731101:hydrofia_awi_0317001:temperature_sample        \n",
       "11 station:svluwobs:fb_731101:sbe45_awi_0403:temperature                     \n",
       "12 station:svluwobs:svluw2:ctd_181:temperature_awi_02:temperature            \n",
       "13 station:svluwobs:fb_731101:temperature_container_awi_01:temperature       \n",
       "14 station:svluwobs:fb_731101:temperature_freshwater_awi_01:temperature      \n",
       "15 station:svluwobs:svluw2:ctd_578:temperature_awi_03:temperature            \n",
       "16 station:svluwobs:svluw2:ctd_964:temperature_awi_04:temperature            \n",
       "17 station:svluwobs:svluw2:sbe38_awi_0657:temperature                        \n",
       "18 station:svluwobs:svluw2:ctd_183:temperature_awi_01:temperature            \n",
       "19 station:svluwobs:fb_731101:hydrofia_awi_0317001:temperature_box           \n",
       "20 station:svluwobs:fb_731101:hydrofia_awi_0317001:temperature_sample_control\n",
       "21 station:svluwobs:fb_731101:hydrofia_awi_0317001:temperature_box_control   \n",
       "22 station:svluwobs:fb_731101:temperature_outside_awi_01:temperature         \n",
       "   logicalCode                                                \n",
       "1  station:svluwobs:svluw2:ctd_181:temperature_awi:temperature\n",
       "2  station:svluwobs:svluw2:ctd:temperature_awi:temperature    \n",
       "3  station:svluwobs:svluw2:seafet_obsvlfr:ph_temperature      \n",
       "4  station:svluwobs:svluw2:adcp_awi:temperature               \n",
       "5  station:svluwobs:svluw2:adcp_awi:temperature               \n",
       "6  station:svluwobs:fb:durafet_obsvlfr:hw_temperature         \n",
       "7  station:svluwobs:fb:ph_awi:temperature                     \n",
       "8  station:svluwobs:fb:hydrofia_awi:invalid_temperature       \n",
       "9  station:svluwobs:fb:oxygen_awi:temperature                 \n",
       "10 station:svluwobs:fb:hydrofia_awi:temperature_sample        \n",
       "11 station:svluwobs:fb:sbe45_awi:temperature                  \n",
       "12 station:svluwobs:svluw2:ctd:temperature_awi:temperature    \n",
       "13 station:svluwobs:fb:temperature_container_awi:temperature  \n",
       "14 station:svluwobs:fb:temperature_freshwater_awi:temperature \n",
       "15 station:svluwobs:svluw2:ctd:temperature_awi:temperature    \n",
       "16 station:svluwobs:svluw2:ctd:temperature_awi:temperature    \n",
       "17 station:svluwobs:svluw2:sbe38_awi:temperature              \n",
       "18 station:svluwobs:svluw2:ctd:temperature_awi:temperature    \n",
       "19 station:svluwobs:fb:hydrofia_awi:temperature_box           \n",
       "20 station:svluwobs:fb:hydrofia_awi:temperature_sample_control\n",
       "21 station:svluwobs:fb:hydrofia_awi:temperature_box_control   \n",
       "22 station:svluwobs:fb:temperature_outside_awi:temperature    \n",
       "   sensor                                                                    \n",
       "1  station:svluwobs:svluw2:ctd_181_profiling:temperature_awi_02:temperature  \n",
       "2  station:svluwobs:svluw2:ctd_103:temperature_awi_01:temperature            \n",
       "3  station:svluwobs:svluw2:seafet_obsvlfr_007:ph_temperature                 \n",
       "4  station:svluwobs:svluw2:adcp_awi_23789:temperature                        \n",
       "5  station:svluwobs:svluw2:adcp_awi_17374:temperature                        \n",
       "6  station:svluwobs:fb_731101:durafet_obsvlfr_01:hw_temperature              \n",
       "7  station:svluwobs:fb_731101:ph_awi_01:temperature                          \n",
       "8  station:svluwobs:fb_731101:hydrofia_awi_0317001:invalid_temperature       \n",
       "9  station:svluwobs:fb_731101:oxygen_awi_574:temperature                     \n",
       "10 station:svluwobs:fb_731101:hydrofia_awi_0317001:temperature_sample        \n",
       "11 station:svluwobs:fb_731101:sbe45_awi_0403:temperature                     \n",
       "12 station:svluwobs:svluw2:ctd_181:temperature_awi_02:temperature            \n",
       "13 station:svluwobs:fb_731101:temperature_container_awi_01:temperature       \n",
       "14 station:svluwobs:fb_731101:temperature_freshwater_awi_01:temperature      \n",
       "15 station:svluwobs:svluw2:ctd_578:temperature_awi_03:temperature            \n",
       "16 station:svluwobs:svluw2:ctd_964:temperature_awi_04:temperature            \n",
       "17 station:svluwobs:svluw2:sbe38_awi_0657:temperature                        \n",
       "18 station:svluwobs:svluw2:ctd_183:temperature_awi_01:temperature            \n",
       "19 station:svluwobs:fb_731101:hydrofia_awi_0317001:temperature_box           \n",
       "20 station:svluwobs:fb_731101:hydrofia_awi_0317001:temperature_sample_control\n",
       "21 station:svluwobs:fb_731101:hydrofia_awi_0317001:temperature_box_control   \n",
       "22 station:svluwobs:fb_731101:temperature_outside_awi_01:temperature         \n",
       "   platformId lastDate                lastValue  lastQualityFlag unit\n",
       "1  58         2019-06-20T08:22:19.5     4.810000 0               NA  \n",
       "2  58         2015-07-24T23:50:00       4.948709 0               °C  \n",
       "3  58         2019-06-26T07:50:36       6.244600 0               NA  \n",
       "4  58         2019-06-26T00:00:00     546.600000 0               °C  \n",
       "5  58         2016-12-08T02:00:00      83.200000 0               °C  \n",
       "6  58         2019-06-26T08:00:00       6.305250 0               NA  \n",
       "7  58         2019-06-26T08:00:00       6.918072 0               NA  \n",
       "8  58         2019-06-24T17:54:07       1.000000 0                   \n",
       "9  58         2019-06-26T08:00:00       6.462500 0               °C  \n",
       "10 58         2019-06-24T17:54:07      25.013000 0               °C  \n",
       "11 58         2019-06-26T08:00:00       6.364975 0               °C  \n",
       "12 58         2019-06-20T08:01:21.5     4.600000 0               °C  \n",
       "13 58         2019-06-26T08:00:00      17.391333 0               °C  \n",
       "14 58         2019-06-26T08:00:00      17.698000 0               °C  \n",
       "15 58         2016-09-20T12:01:55.5     5.220000 0               °C  \n",
       "16 58         2016-05-11T17:02:47.5     2.630000 0               °C  \n",
       "17 58         2019-06-26T08:00:39.552   5.580000 0               °C  \n",
       "18 58         2015-03-11T12:31:16      -0.860000 0               °C  \n",
       "19 58         2019-06-24T17:54:07      27.254000 0               °C  \n",
       "20 58         2019-06-24T17:54:07      25.823000 0               °C  \n",
       "21 58         2019-06-24T17:54:07      15.712000 0               °C  \n",
       "22 58         2019-06-26T08:00:00       9.149833 0               °C  "
      ]
     },
     "metadata": {},
     "output_type": "display_data"
    }
   ],
   "source": [
    "sensors <- dws.sensors('station:svluwobs*temperature*')\n",
    "sensors"
   ]
  },
  {
   "cell_type": "markdown",
   "metadata": {},
   "source": [
    "Load data for temperature from the CTD 181. By default the service returns hourly averaged values. See http://dashboard.awi.de/data-xxl/ for details of the service."
   ]
  },
  {
   "cell_type": "code",
   "execution_count": 3,
   "metadata": {},
   "outputs": [],
   "source": [
    "data <- dws.get(\"station:svluwobs:svluw2:ctd_181_profiling:temperature_awi_02:temperature\", begin=\"2018-10-15\", end=\"2018-11-05\")"
   ]
  },
  {
   "cell_type": "code",
   "execution_count": 4,
   "metadata": {},
   "outputs": [
    {
     "data": {
      "text/html": [
       "<table>\n",
       "<caption>A data.frame: 6 x 2</caption>\n",
       "<thead>\n",
       "\t<tr><th scope=col>datetime</th><th scope=col>station.svluwobs.svluw2.ctd_181_profiling.temperature_awi_02.temperature..mean....</th></tr>\n",
       "\t<tr><th scope=col>&lt;fct&gt;</th><th scope=col>&lt;dbl&gt;</th></tr>\n",
       "</thead>\n",
       "<tbody>\n",
       "\t<tr><td>2018-11-04T12:00:00.000</td><td>1.929671</td></tr>\n",
       "\t<tr><td>2018-11-04T13:00:00.000</td><td>1.726472</td></tr>\n",
       "\t<tr><td>2018-11-04T14:00:00.000</td><td>1.802425</td></tr>\n",
       "\t<tr><td>2018-11-04T15:00:00.000</td><td>1.755569</td></tr>\n",
       "\t<tr><td>2018-11-04T17:00:00.000</td><td>1.772445</td></tr>\n",
       "\t<tr><td>2018-11-05T09:00:00.000</td><td>2.121836</td></tr>\n",
       "</tbody>\n",
       "</table>\n"
      ],
      "text/latex": [
       "A data.frame: 6 x 2\n",
       "\\begin{tabular}{r|ll}\n",
       " datetime & station.svluwobs.svluw2.ctd\\_181\\_profiling.temperature\\_awi\\_02.temperature..mean....\\\\\n",
       " <fct> & <dbl>\\\\\n",
       "\\hline\n",
       "\t 2018-11-04T12:00:00.000 & 1.929671\\\\\n",
       "\t 2018-11-04T13:00:00.000 & 1.726472\\\\\n",
       "\t 2018-11-04T14:00:00.000 & 1.802425\\\\\n",
       "\t 2018-11-04T15:00:00.000 & 1.755569\\\\\n",
       "\t 2018-11-04T17:00:00.000 & 1.772445\\\\\n",
       "\t 2018-11-05T09:00:00.000 & 2.121836\\\\\n",
       "\\end{tabular}\n"
      ],
      "text/markdown": [
       "\n",
       "A data.frame: 6 x 2\n",
       "\n",
       "| datetime &lt;fct&gt; | station.svluwobs.svluw2.ctd_181_profiling.temperature_awi_02.temperature..mean.... &lt;dbl&gt; |\n",
       "|---|---|\n",
       "| 2018-11-04T12:00:00.000 | 1.929671 |\n",
       "| 2018-11-04T13:00:00.000 | 1.726472 |\n",
       "| 2018-11-04T14:00:00.000 | 1.802425 |\n",
       "| 2018-11-04T15:00:00.000 | 1.755569 |\n",
       "| 2018-11-04T17:00:00.000 | 1.772445 |\n",
       "| 2018-11-05T09:00:00.000 | 2.121836 |\n",
       "\n"
      ],
      "text/plain": [
       "  datetime               \n",
       "1 2018-11-04T12:00:00.000\n",
       "2 2018-11-04T13:00:00.000\n",
       "3 2018-11-04T14:00:00.000\n",
       "4 2018-11-04T15:00:00.000\n",
       "5 2018-11-04T17:00:00.000\n",
       "6 2018-11-05T09:00:00.000\n",
       "  station.svluwobs.svluw2.ctd_181_profiling.temperature_awi_02.temperature..mean....\n",
       "1 1.929671                                                                          \n",
       "2 1.726472                                                                          \n",
       "3 1.802425                                                                          \n",
       "4 1.755569                                                                          \n",
       "5 1.772445                                                                          \n",
       "6 2.121836                                                                          "
      ]
     },
     "metadata": {},
     "output_type": "display_data"
    }
   ],
   "source": [
    "head(data)"
   ]
  },
  {
   "cell_type": "markdown",
   "metadata": {},
   "source": [
    "Plot the data against time."
   ]
  },
  {
   "cell_type": "code",
   "execution_count": 5,
   "metadata": {},
   "outputs": [
    {
     "data": {
      "image/png": "[encoded data removed]",
      "text/plain": [
       "plot without title"
      ]
     },
     "metadata": {},
     "output_type": "display_data"
    }
   ],
   "source": [
    "options(repr.plot.width = 10, repr.plot.height = 5)\n",
    "plot(data[,2] ~ data$datetime)"
   ]
  },
  {
   "cell_type": "markdown",
   "metadata": {},
   "source": [
    "Load basic sensor metadata with the selected code. See https://sensor.awi.de/?urn=station:svluwobs:svluw2:ctd_181:temperature_sensor_01 for more information about this sensor. Note: there are some mapping issues for this example - they will be fixed soon."
   ]
  },
  {
   "cell_type": "code",
   "execution_count": 6,
   "metadata": {},
   "outputs": [
    {
     "name": "stdout",
     "output_type": "stream",
     "text": [
      "[1] \"https://sensor.awi.de/rest/sensors/sensorOutputs/getSensorOutputByUrn/station:svluwobs:svluw2:ctd_181_profiling:temperature_awi_02:temperature\"\n"
     ]
    },
    {
     "data": {
      "text/html": [
       "<dl>\n",
       "\t<dt>$id</dt>\n",
       "\t\t<dd>59516</dd>\n",
       "\t<dt>$name</dt>\n",
       "\t\t<dd>'temperature'</dd>\n",
       "\t<dt>$type</dt>\n",
       "\t\t<dd>'temperature'</dd>\n",
       "\t<dt>$description</dt>\n",
       "\t\t<dd>'temperature'</dd>\n",
       "\t<dt>$definition</dt>\n",
       "\t\t<dd>'AWI'</dd>\n",
       "\t<dt>$unit</dt>\n",
       "\t\t<dd>'°C'</dd>\n",
       "</dl>\n"
      ],
      "text/latex": [
       "\\begin{description}\n",
       "\\item[\\$id] 59516\n",
       "\\item[\\$name] 'temperature'\n",
       "\\item[\\$type] 'temperature'\n",
       "\\item[\\$description] 'temperature'\n",
       "\\item[\\$definition] 'AWI'\n",
       "\\item[\\$unit] '°C'\n",
       "\\end{description}\n"
      ],
      "text/markdown": [
       "$id\n",
       ":   59516\n",
       "$name\n",
       ":   'temperature'\n",
       "$type\n",
       ":   'temperature'\n",
       "$description\n",
       ":   'temperature'\n",
       "$definition\n",
       ":   'AWI'\n",
       "$unit\n",
       ":   '°C'\n",
       "\n",
       "\n"
      ],
      "text/plain": [
       "$id\n",
       "[1] 59516\n",
       "\n",
       "$name\n",
       "[1] \"temperature\"\n",
       "\n",
       "$type\n",
       "[1] \"temperature\"\n",
       "\n",
       "$description\n",
       "[1] \"temperature\"\n",
       "\n",
       "$definition\n",
       "[1] \"AWI\"\n",
       "\n",
       "$unit\n",
       "[1] \"°C\"\n"
      ]
     },
     "metadata": {},
     "output_type": "display_data"
    }
   ],
   "source": [
    "sensor <- dws.sensor(\"station:svluwobs:svluw2:ctd_181_profiling:temperature_awi_02:temperature\")\n",
    "head(sensor)"
   ]
  },
  {
   "cell_type": "markdown",
   "metadata": {},
   "source": [
    "Load the whole platform metadata."
   ]
  },
  {
   "cell_type": "code",
   "execution_count": 7,
   "metadata": {},
   "outputs": [
    {
     "data": {
      "text/html": [
       "<dl>\n",
       "\t<dt>$id</dt>\n",
       "\t\t<dd>220</dd>\n",
       "\t<dt>$code</dt>\n",
       "\t\t<dd>'station:svluwobs'</dd>\n",
       "\t<dt>$shortName</dt>\n",
       "\t\t<dd>'SVLUWOBS'</dd>\n",
       "\t<dt>$name</dt>\n",
       "\t\t<dd><span style=white-space:pre-wrap>'AWIPEV  Underwater Observatory Svalbard'</span></dd>\n",
       "\t<dt>$description</dt>\n",
       "\t\t<dd>'AWIPEV underwater observatory is an experimental field station (id: svluwobs) operated jointly by the AWI and the Helmholtz Centre Geesthacht (Germany). The station hosts multiple sensors and sensor units in the Kongsfjorden ecosystem. The station comprise a land based FerryBox system (small scale facility - id: svluw2) and a cabled underwater observatory (small scale facility - id: fb_73001). The cabled underwater observatory and the pumps of the FerryBox are installed on an underwater platform in 12m water depth close to the so called \"Old Pier\" off NyAlesund. The FerryBox and the cabled underwater observatory are both equipped with (redundant) multiple sensors and are designed to also host sensors from external cooperation partners. The underwater observatory provides power and Gbit internet connection at five independant wet-matable underwater plugs so that sensors and sensor-units can be exchanged by divers e.g. for maintenance. The underwater observatory additionally host a fully remote controlled vertical profiling system for a variety of different sensors which perform daily vertical profiles from 12m water depth to the surface. All data from the observatory are archived at the AWI data management system O2A (Observation to Archive) and are available as quality controlled data with 1 hour temporal resolution at PANGAEA (www.pangaea.de) or with higher temporal resolution upon request to philipp.fischer@awi.de'</dd>\n",
       "\t<dt>$definition</dt>\n",
       "\t\t<dd>'Station'</dd>\n",
       "</dl>\n"
      ],
      "text/latex": [
       "\\begin{description}\n",
       "\\item[\\$id] 220\n",
       "\\item[\\$code] 'station:svluwobs'\n",
       "\\item[\\$shortName] 'SVLUWOBS'\n",
       "\\item[\\$name] 'AWIPEV  Underwater Observatory Svalbard'\n",
       "\\item[\\$description] 'AWIPEV underwater observatory is an experimental field station (id: svluwobs) operated jointly by the AWI and the Helmholtz Centre Geesthacht (Germany). The station hosts multiple sensors and sensor units in the Kongsfjorden ecosystem. The station comprise a land based FerryBox system (small scale facility - id: svluw2) and a cabled underwater observatory (small scale facility - id: fb\\_73001). The cabled underwater observatory and the pumps of the FerryBox are installed on an underwater platform in 12m water depth close to the so called \"Old Pier\" off NyAlesund. The FerryBox and the cabled underwater observatory are both equipped with (redundant) multiple sensors and are designed to also host sensors from external cooperation partners. The underwater observatory provides power and Gbit internet connection at five independant wet-matable underwater plugs so that sensors and sensor-units can be exchanged by divers e.g. for maintenance. The underwater observatory additionally host a fully remote controlled vertical profiling system for a variety of different sensors which perform daily vertical profiles from 12m water depth to the surface. All data from the observatory are archived at the AWI data management system O2A (Observation to Archive) and are available as quality controlled data with 1 hour temporal resolution at PANGAEA (www.pangaea.de) or with higher temporal resolution upon request to philipp.fischer@awi.de'\n",
       "\\item[\\$definition] 'Station'\n",
       "\\end{description}\n"
      ],
      "text/markdown": [
       "$id\n",
       ":   220\n",
       "$code\n",
       ":   'station:svluwobs'\n",
       "$shortName\n",
       ":   'SVLUWOBS'\n",
       "$name\n",
       ":   <span style=white-space:pre-wrap>'AWIPEV  Underwater Observatory Svalbard'</span>\n",
       "$description\n",
       ":   'AWIPEV underwater observatory is an experimental field station (id: svluwobs) operated jointly by the AWI and the Helmholtz Centre Geesthacht (Germany). The station hosts multiple sensors and sensor units in the Kongsfjorden ecosystem. The station comprise a land based FerryBox system (small scale facility - id: svluw2) and a cabled underwater observatory (small scale facility - id: fb_73001). The cabled underwater observatory and the pumps of the FerryBox are installed on an underwater platform in 12m water depth close to the so called \"Old Pier\" off NyAlesund. The FerryBox and the cabled underwater observatory are both equipped with (redundant) multiple sensors and are designed to also host sensors from external cooperation partners. The underwater observatory provides power and Gbit internet connection at five independant wet-matable underwater plugs so that sensors and sensor-units can be exchanged by divers e.g. for maintenance. The underwater observatory additionally host a fully remote controlled vertical profiling system for a variety of different sensors which perform daily vertical profiles from 12m water depth to the surface. All data from the observatory are archived at the AWI data management system O2A (Observation to Archive) and are available as quality controlled data with 1 hour temporal resolution at PANGAEA (www.pangaea.de) or with higher temporal resolution upon request to philipp.fischer@awi.de'\n",
       "$definition\n",
       ":   'Station'\n",
       "\n",
       "\n"
      ],
      "text/plain": [
       "$id\n",
       "[1] 220\n",
       "\n",
       "$code\n",
       "[1] \"station:svluwobs\"\n",
       "\n",
       "$shortName\n",
       "[1] \"SVLUWOBS\"\n",
       "\n",
       "$name\n",
       "[1] \"AWIPEV  Underwater Observatory Svalbard\"\n",
       "\n",
       "$description\n",
       "[1] \"AWIPEV underwater observatory is an experimental field station (id: svluwobs) operated jointly by the AWI and the Helmholtz Centre Geesthacht (Germany). The station hosts multiple sensors and sensor units in the Kongsfjorden ecosystem. The station comprise a land based FerryBox system (small scale facility - id: svluw2) and a cabled underwater observatory (small scale facility - id: fb_73001). The cabled underwater observatory and the pumps of the FerryBox are installed on an underwater platform in 12m water depth close to the so called \\\"Old Pier\\\" off NyAlesund. The FerryBox and the cabled underwater observatory are both equipped with (redundant) multiple sensors and are designed to also host sensors from external cooperation partners. The underwater observatory provides power and Gbit internet connection at five independant wet-matable underwater plugs so that sensors and sensor-units can be exchanged by divers e.g. for maintenance. The underwater observatory additionally host a fully remote controlled vertical profiling system for a variety of different sensors which perform daily vertical profiles from 12m water depth to the surface. All data from the observatory are archived at the AWI data management system O2A (Observation to Archive) and are available as quality controlled data with 1 hour temporal resolution at PANGAEA (www.pangaea.de) or with higher temporal resolution upon request to philipp.fischer@awi.de\"\n",
       "\n",
       "$definition\n",
       "[1] \"Station\"\n"
      ]
     },
     "metadata": {},
     "output_type": "display_data"
    }
   ],
   "source": [
    "meta <- dws.meta(\"station:svluwobs\")\n",
    "head(meta)"
   ]
  },
  {
   "cell_type": "markdown",
   "metadata": {},
   "source": [
    "We have defined measurement properties like \"measurement range\" for our temperature measure. Apply it to the data."
   ]
  },
  {
   "cell_type": "code",
   "execution_count": 8,
   "metadata": {},
   "outputs": [
    {
     "data": {
      "text/plain": [
       "NULL"
      ]
     },
     "metadata": {},
     "output_type": "display_data"
    }
   ],
   "source": [
    "range <- meta$map$`station:svluwobs:svluw2:ctd_181:temperature_sensor_01:temperature`$properties$local_range\n",
    "range"
   ]
  },
  {
   "cell_type": "code",
   "execution_count": 9,
   "metadata": {},
   "outputs": [
    {
     "data": {
      "text/html": [
       "<table>\n",
       "<caption>A data.frame: 6 x 3</caption>\n",
       "<thead>\n",
       "\t<tr><th></th><th scope=col>datetime</th><th scope=col>station.svluwobs.svluw2.ctd_181_profiling.temperature_awi_02.temperature..mean....</th><th scope=col>range_check</th></tr>\n",
       "\t<tr><th></th><th scope=col>&lt;fct&gt;</th><th scope=col>&lt;dbl&gt;</th><th scope=col>&lt;lgl&gt;</th></tr>\n",
       "</thead>\n",
       "<tbody>\n",
       "\t<tr><th scope=row>9</th><td>2018-11-05T12:00:00.000</td><td>2.047630</td><td>NA</td></tr>\n",
       "\t<tr><th scope=row>10</th><td>2018-11-05T15:00:00.000</td><td>1.908007</td><td>NA</td></tr>\n",
       "\t<tr><th scope=row>11</th><td>2018-11-05T16:00:00.000</td><td>1.906611</td><td>NA</td></tr>\n",
       "\t<tr><th scope=row>12</th><td>2018-11-05T17:00:00.000</td><td>1.927070</td><td>NA</td></tr>\n",
       "\t<tr><th scope=row>13</th><td>2018-11-05T18:00:00.000</td><td>1.908447</td><td>NA</td></tr>\n",
       "\t<tr><th scope=row>14</th><td>2018-11-05T20:00:00.000</td><td>1.796286</td><td>NA</td></tr>\n",
       "</tbody>\n",
       "</table>\n"
      ],
      "text/latex": [
       "A data.frame: 6 x 3\n",
       "\\begin{tabular}{r|lll}\n",
       "  & datetime & station.svluwobs.svluw2.ctd\\_181\\_profiling.temperature\\_awi\\_02.temperature..mean.... & range\\_check\\\\\n",
       "  & <fct> & <dbl> & <lgl>\\\\\n",
       "\\hline\n",
       "\t9 & 2018-11-05T12:00:00.000 & 2.047630 & NA\\\\\n",
       "\t10 & 2018-11-05T15:00:00.000 & 1.908007 & NA\\\\\n",
       "\t11 & 2018-11-05T16:00:00.000 & 1.906611 & NA\\\\\n",
       "\t12 & 2018-11-05T17:00:00.000 & 1.927070 & NA\\\\\n",
       "\t13 & 2018-11-05T18:00:00.000 & 1.908447 & NA\\\\\n",
       "\t14 & 2018-11-05T20:00:00.000 & 1.796286 & NA\\\\\n",
       "\\end{tabular}\n"
      ],
      "text/markdown": [
       "\n",
       "A data.frame: 6 x 3\n",
       "\n",
       "| <!--/--> | datetime &lt;fct&gt; | station.svluwobs.svluw2.ctd_181_profiling.temperature_awi_02.temperature..mean.... &lt;dbl&gt; | range_check &lt;lgl&gt; |\n",
       "|---|---|---|---|\n",
       "| 9 | 2018-11-05T12:00:00.000 | 2.047630 | NA |\n",
       "| 10 | 2018-11-05T15:00:00.000 | 1.908007 | NA |\n",
       "| 11 | 2018-11-05T16:00:00.000 | 1.906611 | NA |\n",
       "| 12 | 2018-11-05T17:00:00.000 | 1.927070 | NA |\n",
       "| 13 | 2018-11-05T18:00:00.000 | 1.908447 | NA |\n",
       "| 14 | 2018-11-05T20:00:00.000 | 1.796286 | NA |\n",
       "\n"
      ],
      "text/plain": [
       "   datetime               \n",
       "9  2018-11-05T12:00:00.000\n",
       "10 2018-11-05T15:00:00.000\n",
       "11 2018-11-05T16:00:00.000\n",
       "12 2018-11-05T17:00:00.000\n",
       "13 2018-11-05T18:00:00.000\n",
       "14 2018-11-05T20:00:00.000\n",
       "   station.svluwobs.svluw2.ctd_181_profiling.temperature_awi_02.temperature..mean....\n",
       "9  2.047630                                                                          \n",
       "10 1.908007                                                                          \n",
       "11 1.906611                                                                          \n",
       "12 1.927070                                                                          \n",
       "13 1.908447                                                                          \n",
       "14 1.796286                                                                          \n",
       "   range_check\n",
       "9  NA         \n",
       "10 NA         \n",
       "11 NA         \n",
       "12 NA         \n",
       "13 NA         \n",
       "14 NA         "
      ]
     },
     "metadata": {},
     "output_type": "display_data"
    }
   ],
   "source": [
    "data$range_check <- \n",
    "    range$lower < data$station.svluwobs.svluw2.ctd_181.temperature..mean....C. &&\n",
    "    range$upper > data$station.svluwobs.svluw2.ctd_181.temperature..mean....C.\n",
    "tail(data)"
   ]
  },
  {
   "cell_type": "markdown",
   "metadata": {},
   "source": [
    "The CTD is profiling temperature in the water column. Explore data."
   ]
  },
  {
   "cell_type": "code",
   "execution_count": 10,
   "metadata": {},
   "outputs": [
    {
     "data": {
      "text/html": [
       "<table>\n",
       "<caption>A data.frame: 18 x 9</caption>\n",
       "<thead>\n",
       "\t<tr><th scope=col>id</th><th scope=col>code</th><th scope=col>logicalCode</th><th scope=col>sensor</th><th scope=col>platformId</th><th scope=col>lastDate</th><th scope=col>lastValue</th><th scope=col>lastQualityFlag</th><th scope=col>unit</th></tr>\n",
       "\t<tr><th scope=col>&lt;int&gt;</th><th scope=col>&lt;chr&gt;</th><th scope=col>&lt;chr&gt;</th><th scope=col>&lt;chr&gt;</th><th scope=col>&lt;int&gt;</th><th scope=col>&lt;chr&gt;</th><th scope=col>&lt;dbl&gt;</th><th scope=col>&lt;int&gt;</th><th scope=col>&lt;chr&gt;</th></tr>\n",
       "</thead>\n",
       "<tbody>\n",
       "\t<tr><td>1754</td><td>station:svluwobs:svluw2:ctd_181_profiling:pressure_awi_02:pressure              </td><td>station:svluwobs:svluw2:ctd_181:pressure_awi:pressure          </td><td>station:svluwobs:svluw2:ctd_181_profiling:pressure_awi_02:pressure              </td><td>58</td><td>2019-06-20T08:22:19.5</td><td>  3.18</td><td>0</td><td>NA   </td></tr>\n",
       "\t<tr><td>1755</td><td>station:svluwobs:svluw2:ctd_181_profiling:temperature_awi_02:temperature        </td><td>station:svluwobs:svluw2:ctd_181:temperature_awi:temperature    </td><td>station:svluwobs:svluw2:ctd_181_profiling:temperature_awi_02:temperature        </td><td>58</td><td>2019-06-20T08:22:19.5</td><td>  4.81</td><td>0</td><td>NA   </td></tr>\n",
       "\t<tr><td>1756</td><td>station:svluwobs:svluw2:ctd_181_profiling:conductivity_awi_02:conductivity      </td><td>station:svluwobs:svluw2:ctd_181:conductivity_awi:conductivity  </td><td>station:svluwobs:svluw2:ctd_181_profiling:conductivity_awi_02:conductivity      </td><td>58</td><td>2019-06-20T08:22:19.5</td><td> 33.32</td><td>0</td><td>NA   </td></tr>\n",
       "\t<tr><td>1757</td><td>station:svluwobs:svluw2:ctd_181_profiling:oxygen_awi_1534:oxygen_concentration  </td><td>station:svluwobs:svluw2:ctd_181:oxygen_awi:oxygen_concentration</td><td>station:svluwobs:svluw2:ctd_181_profiling:oxygen_awi_1534:oxygen_concentration  </td><td>58</td><td>2019-06-20T08:22:19.5</td><td>100.00</td><td>0</td><td>NA   </td></tr>\n",
       "\t<tr><td>1758</td><td>station:svluwobs:svluw2:ctd_181_profiling:fluorescence_awi_2104589:chlorophyll_a</td><td>station:svluwobs:svluw2:ctd_181:fluorescence_awi:chlorophyll_a </td><td>station:svluwobs:svluw2:ctd_181_profiling:fluorescence_awi_2104589:chlorophyll_a</td><td>58</td><td>2019-06-20T08:22:19.5</td><td> 48.95</td><td>0</td><td>NA   </td></tr>\n",
       "\t<tr><td>1759</td><td>station:svluwobs:svluw2:ctd_181_profiling:turbidity_awi_10878:turbidity         </td><td>station:svluwobs:svluw2:ctd_181:turbidity_awi:turbidity        </td><td>station:svluwobs:svluw2:ctd_181_profiling:turbidity_awi_10878:turbidity         </td><td>58</td><td>2019-06-20T08:22:19.5</td><td>156.46</td><td>0</td><td>NA   </td></tr>\n",
       "\t<tr><td>1760</td><td>station:svluwobs:svluw2:ctd_181_profiling:conductivity_awi_02:salinity          </td><td>station:svluwobs:svluw2:ctd_181:conductivity_awi:salinity      </td><td>station:svluwobs:svluw2:ctd_181_profiling:conductivity_awi_02:salinity          </td><td>58</td><td>2019-06-20T08:22:19.5</td><td> 35.04</td><td>0</td><td>NA   </td></tr>\n",
       "\t<tr><td>1761</td><td>station:svluwobs:svluw2:ctd_181_profiling:oxygen_awi_1534:oxygen_mg_l           </td><td>station:svluwobs:svluw2:ctd_181:oxygen_awi:oxygen_mg_l         </td><td>station:svluwobs:svluw2:ctd_181_profiling:oxygen_awi_1534:oxygen_mg_l           </td><td>58</td><td>2019-06-20T08:22:19.5</td><td> 13.21</td><td>0</td><td>NA   </td></tr>\n",
       "\t<tr><td>1762</td><td>station:svluwobs:svluw2:ctd_181_profiling:oxygen_awi_1534:oxygen_ml_l           </td><td>station:svluwobs:svluw2:ctd_181:oxygen_awi:oxygen_ml_l         </td><td>station:svluwobs:svluw2:ctd_181_profiling:oxygen_awi_1534:oxygen_ml_l           </td><td>58</td><td>2019-06-20T08:22:19.5</td><td>  9.25</td><td>0</td><td>NA   </td></tr>\n",
       "\t<tr><td> 446</td><td>station:svluwobs:svluw2:ctd_181:conductivity_awi_02:salinity                    </td><td>station:svluwobs:svluw2:ctd:conductivity_awi:salinity          </td><td>station:svluwobs:svluw2:ctd_181:conductivity_awi_02:salinity                    </td><td>58</td><td>2019-06-20T08:01:21.5</td><td> 35.19</td><td>0</td><td>PSU  </td></tr>\n",
       "\t<tr><td> 442</td><td>station:svluwobs:svluw2:ctd_181:conductivity_awi_02:conductivity                </td><td>station:svluwobs:svluw2:ctd:conductivity_awi:conductivity      </td><td>station:svluwobs:svluw2:ctd_181:conductivity_awi_02:conductivity                </td><td>58</td><td>2019-06-20T08:01:21.5</td><td> 33.26</td><td>0</td><td>mS/cm</td></tr>\n",
       "\t<tr><td> 444</td><td>station:svluwobs:svluw2:ctd_181:fluorescence_awi_2104589:chlorophyll_a          </td><td>station:svluwobs:svluw2:ctd:fluorescence_awi:chlorophyll_a     </td><td>station:svluwobs:svluw2:ctd_181:fluorescence_awi_2104589:chlorophyll_a          </td><td>58</td><td>2019-06-20T08:01:21.5</td><td> 48.95</td><td>0</td><td>µg/L </td></tr>\n",
       "\t<tr><td> 443</td><td>station:svluwobs:svluw2:ctd_181:oxygen_awi_1534:oxygen_concentration            </td><td>station:svluwobs:svluw2:ctd:oxygen_awi:oxygen_concentration    </td><td>station:svluwobs:svluw2:ctd_181:oxygen_awi_1534:oxygen_concentration            </td><td>58</td><td>2019-06-20T08:01:21.5</td><td>100.00</td><td>0</td><td>%    </td></tr>\n",
       "\t<tr><td> 440</td><td>station:svluwobs:svluw2:ctd_181:pressure_awi_02:pressure                        </td><td>station:svluwobs:svluw2:ctd:pressure_awi:pressure              </td><td>station:svluwobs:svluw2:ctd_181:pressure_awi_02:pressure                        </td><td>58</td><td>2019-06-20T08:01:21.5</td><td>  6.87</td><td>0</td><td>dbar </td></tr>\n",
       "\t<tr><td> 441</td><td>station:svluwobs:svluw2:ctd_181:temperature_awi_02:temperature                  </td><td>station:svluwobs:svluw2:ctd:temperature_awi:temperature        </td><td>station:svluwobs:svluw2:ctd_181:temperature_awi_02:temperature                  </td><td>58</td><td>2019-06-20T08:01:21.5</td><td>  4.60</td><td>0</td><td>°C   </td></tr>\n",
       "\t<tr><td> 445</td><td>station:svluwobs:svluw2:ctd_181:turbidity_awi_10878:turbidity                   </td><td>station:svluwobs:svluw2:ctd:turbidity_awi:turbidity            </td><td>station:svluwobs:svluw2:ctd_181:turbidity_awi_10878:turbidity                   </td><td>58</td><td>2019-06-20T08:01:21.5</td><td>164.37</td><td>0</td><td>FTU  </td></tr>\n",
       "\t<tr><td> 447</td><td>station:svluwobs:svluw2:ctd_181:oxygen_awi_1534:oxygen_mg_l                     </td><td>station:svluwobs:svluw2:ctd:oxygen_awi:oxygen_mg_l             </td><td>station:svluwobs:svluw2:ctd_181:oxygen_awi_1534:oxygen_mg_l                     </td><td>58</td><td>2019-06-20T08:01:21.5</td><td> 13.19</td><td>0</td><td>mg/l </td></tr>\n",
       "\t<tr><td> 448</td><td>station:svluwobs:svluw2:ctd_181:oxygen_awi_1534:oxygen_ml_l                     </td><td>station:svluwobs:svluw2:ctd:oxygen_awi:oxygen_ml_l             </td><td>station:svluwobs:svluw2:ctd_181:oxygen_awi_1534:oxygen_ml_l                     </td><td>58</td><td>2019-06-20T08:01:21.5</td><td>  9.24</td><td>0</td><td>ml/l </td></tr>\n",
       "</tbody>\n",
       "</table>\n"
      ],
      "text/latex": [
       "A data.frame: 18 x 9\n",
       "\\begin{tabular}{r|lllllllll}\n",
       " id & code & logicalCode & sensor & platformId & lastDate & lastValue & lastQualityFlag & unit\\\\\n",
       " <int> & <chr> & <chr> & <chr> & <int> & <chr> & <dbl> & <int> & <chr>\\\\\n",
       "\\hline\n",
       "\t 1754 & station:svluwobs:svluw2:ctd\\_181\\_profiling:pressure\\_awi\\_02:pressure               & station:svluwobs:svluw2:ctd\\_181:pressure\\_awi:pressure           & station:svluwobs:svluw2:ctd\\_181\\_profiling:pressure\\_awi\\_02:pressure               & 58 & 2019-06-20T08:22:19.5 &   3.18 & 0 & NA   \\\\\n",
       "\t 1755 & station:svluwobs:svluw2:ctd\\_181\\_profiling:temperature\\_awi\\_02:temperature         & station:svluwobs:svluw2:ctd\\_181:temperature\\_awi:temperature     & station:svluwobs:svluw2:ctd\\_181\\_profiling:temperature\\_awi\\_02:temperature         & 58 & 2019-06-20T08:22:19.5 &   4.81 & 0 & NA   \\\\\n",
       "\t 1756 & station:svluwobs:svluw2:ctd\\_181\\_profiling:conductivity\\_awi\\_02:conductivity       & station:svluwobs:svluw2:ctd\\_181:conductivity\\_awi:conductivity   & station:svluwobs:svluw2:ctd\\_181\\_profiling:conductivity\\_awi\\_02:conductivity       & 58 & 2019-06-20T08:22:19.5 &  33.32 & 0 & NA   \\\\\n",
       "\t 1757 & station:svluwobs:svluw2:ctd\\_181\\_profiling:oxygen\\_awi\\_1534:oxygen\\_concentration   & station:svluwobs:svluw2:ctd\\_181:oxygen\\_awi:oxygen\\_concentration & station:svluwobs:svluw2:ctd\\_181\\_profiling:oxygen\\_awi\\_1534:oxygen\\_concentration   & 58 & 2019-06-20T08:22:19.5 & 100.00 & 0 & NA   \\\\\n",
       "\t 1758 & station:svluwobs:svluw2:ctd\\_181\\_profiling:fluorescence\\_awi\\_2104589:chlorophyll\\_a & station:svluwobs:svluw2:ctd\\_181:fluorescence\\_awi:chlorophyll\\_a  & station:svluwobs:svluw2:ctd\\_181\\_profiling:fluorescence\\_awi\\_2104589:chlorophyll\\_a & 58 & 2019-06-20T08:22:19.5 &  48.95 & 0 & NA   \\\\\n",
       "\t 1759 & station:svluwobs:svluw2:ctd\\_181\\_profiling:turbidity\\_awi\\_10878:turbidity          & station:svluwobs:svluw2:ctd\\_181:turbidity\\_awi:turbidity         & station:svluwobs:svluw2:ctd\\_181\\_profiling:turbidity\\_awi\\_10878:turbidity          & 58 & 2019-06-20T08:22:19.5 & 156.46 & 0 & NA   \\\\\n",
       "\t 1760 & station:svluwobs:svluw2:ctd\\_181\\_profiling:conductivity\\_awi\\_02:salinity           & station:svluwobs:svluw2:ctd\\_181:conductivity\\_awi:salinity       & station:svluwobs:svluw2:ctd\\_181\\_profiling:conductivity\\_awi\\_02:salinity           & 58 & 2019-06-20T08:22:19.5 &  35.04 & 0 & NA   \\\\\n",
       "\t 1761 & station:svluwobs:svluw2:ctd\\_181\\_profiling:oxygen\\_awi\\_1534:oxygen\\_mg\\_l            & station:svluwobs:svluw2:ctd\\_181:oxygen\\_awi:oxygen\\_mg\\_l          & station:svluwobs:svluw2:ctd\\_181\\_profiling:oxygen\\_awi\\_1534:oxygen\\_mg\\_l            & 58 & 2019-06-20T08:22:19.5 &  13.21 & 0 & NA   \\\\\n",
       "\t 1762 & station:svluwobs:svluw2:ctd\\_181\\_profiling:oxygen\\_awi\\_1534:oxygen\\_ml\\_l            & station:svluwobs:svluw2:ctd\\_181:oxygen\\_awi:oxygen\\_ml\\_l          & station:svluwobs:svluw2:ctd\\_181\\_profiling:oxygen\\_awi\\_1534:oxygen\\_ml\\_l            & 58 & 2019-06-20T08:22:19.5 &   9.25 & 0 & NA   \\\\\n",
       "\t  446 & station:svluwobs:svluw2:ctd\\_181:conductivity\\_awi\\_02:salinity                     & station:svluwobs:svluw2:ctd:conductivity\\_awi:salinity           & station:svluwobs:svluw2:ctd\\_181:conductivity\\_awi\\_02:salinity                     & 58 & 2019-06-20T08:01:21.5 &  35.19 & 0 & PSU  \\\\\n",
       "\t  442 & station:svluwobs:svluw2:ctd\\_181:conductivity\\_awi\\_02:conductivity                 & station:svluwobs:svluw2:ctd:conductivity\\_awi:conductivity       & station:svluwobs:svluw2:ctd\\_181:conductivity\\_awi\\_02:conductivity                 & 58 & 2019-06-20T08:01:21.5 &  33.26 & 0 & mS/cm\\\\\n",
       "\t  444 & station:svluwobs:svluw2:ctd\\_181:fluorescence\\_awi\\_2104589:chlorophyll\\_a           & station:svluwobs:svluw2:ctd:fluorescence\\_awi:chlorophyll\\_a      & station:svluwobs:svluw2:ctd\\_181:fluorescence\\_awi\\_2104589:chlorophyll\\_a           & 58 & 2019-06-20T08:01:21.5 &  48.95 & 0 & µg/L \\\\\n",
       "\t  443 & station:svluwobs:svluw2:ctd\\_181:oxygen\\_awi\\_1534:oxygen\\_concentration             & station:svluwobs:svluw2:ctd:oxygen\\_awi:oxygen\\_concentration     & station:svluwobs:svluw2:ctd\\_181:oxygen\\_awi\\_1534:oxygen\\_concentration             & 58 & 2019-06-20T08:01:21.5 & 100.00 & 0 & \\%    \\\\\n",
       "\t  440 & station:svluwobs:svluw2:ctd\\_181:pressure\\_awi\\_02:pressure                         & station:svluwobs:svluw2:ctd:pressure\\_awi:pressure               & station:svluwobs:svluw2:ctd\\_181:pressure\\_awi\\_02:pressure                         & 58 & 2019-06-20T08:01:21.5 &   6.87 & 0 & dbar \\\\\n",
       "\t  441 & station:svluwobs:svluw2:ctd\\_181:temperature\\_awi\\_02:temperature                   & station:svluwobs:svluw2:ctd:temperature\\_awi:temperature         & station:svluwobs:svluw2:ctd\\_181:temperature\\_awi\\_02:temperature                   & 58 & 2019-06-20T08:01:21.5 &   4.60 & 0 & °C   \\\\\n",
       "\t  445 & station:svluwobs:svluw2:ctd\\_181:turbidity\\_awi\\_10878:turbidity                    & station:svluwobs:svluw2:ctd:turbidity\\_awi:turbidity             & station:svluwobs:svluw2:ctd\\_181:turbidity\\_awi\\_10878:turbidity                    & 58 & 2019-06-20T08:01:21.5 & 164.37 & 0 & FTU  \\\\\n",
       "\t  447 & station:svluwobs:svluw2:ctd\\_181:oxygen\\_awi\\_1534:oxygen\\_mg\\_l                      & station:svluwobs:svluw2:ctd:oxygen\\_awi:oxygen\\_mg\\_l              & station:svluwobs:svluw2:ctd\\_181:oxygen\\_awi\\_1534:oxygen\\_mg\\_l                      & 58 & 2019-06-20T08:01:21.5 &  13.19 & 0 & mg/l \\\\\n",
       "\t  448 & station:svluwobs:svluw2:ctd\\_181:oxygen\\_awi\\_1534:oxygen\\_ml\\_l                      & station:svluwobs:svluw2:ctd:oxygen\\_awi:oxygen\\_ml\\_l              & station:svluwobs:svluw2:ctd\\_181:oxygen\\_awi\\_1534:oxygen\\_ml\\_l                      & 58 & 2019-06-20T08:01:21.5 &   9.24 & 0 & ml/l \\\\\n",
       "\\end{tabular}\n"
      ],
      "text/markdown": [
       "\n",
       "A data.frame: 18 x 9\n",
       "\n",
       "| id &lt;int&gt; | code &lt;chr&gt; | logicalCode &lt;chr&gt; | sensor &lt;chr&gt; | platformId &lt;int&gt; | lastDate &lt;chr&gt; | lastValue &lt;dbl&gt; | lastQualityFlag &lt;int&gt; | unit &lt;chr&gt; |\n",
       "|---|---|---|---|---|---|---|---|---|\n",
       "| 1754 | station:svluwobs:svluw2:ctd_181_profiling:pressure_awi_02:pressure               | station:svluwobs:svluw2:ctd_181:pressure_awi:pressure           | station:svluwobs:svluw2:ctd_181_profiling:pressure_awi_02:pressure               | 58 | 2019-06-20T08:22:19.5 |   3.18 | 0 | NA    |\n",
       "| 1755 | station:svluwobs:svluw2:ctd_181_profiling:temperature_awi_02:temperature         | station:svluwobs:svluw2:ctd_181:temperature_awi:temperature     | station:svluwobs:svluw2:ctd_181_profiling:temperature_awi_02:temperature         | 58 | 2019-06-20T08:22:19.5 |   4.81 | 0 | NA    |\n",
       "| 1756 | station:svluwobs:svluw2:ctd_181_profiling:conductivity_awi_02:conductivity       | station:svluwobs:svluw2:ctd_181:conductivity_awi:conductivity   | station:svluwobs:svluw2:ctd_181_profiling:conductivity_awi_02:conductivity       | 58 | 2019-06-20T08:22:19.5 |  33.32 | 0 | NA    |\n",
       "| 1757 | station:svluwobs:svluw2:ctd_181_profiling:oxygen_awi_1534:oxygen_concentration   | station:svluwobs:svluw2:ctd_181:oxygen_awi:oxygen_concentration | station:svluwobs:svluw2:ctd_181_profiling:oxygen_awi_1534:oxygen_concentration   | 58 | 2019-06-20T08:22:19.5 | 100.00 | 0 | NA    |\n",
       "| 1758 | station:svluwobs:svluw2:ctd_181_profiling:fluorescence_awi_2104589:chlorophyll_a | station:svluwobs:svluw2:ctd_181:fluorescence_awi:chlorophyll_a  | station:svluwobs:svluw2:ctd_181_profiling:fluorescence_awi_2104589:chlorophyll_a | 58 | 2019-06-20T08:22:19.5 |  48.95 | 0 | NA    |\n",
       "| 1759 | station:svluwobs:svluw2:ctd_181_profiling:turbidity_awi_10878:turbidity          | station:svluwobs:svluw2:ctd_181:turbidity_awi:turbidity         | station:svluwobs:svluw2:ctd_181_profiling:turbidity_awi_10878:turbidity          | 58 | 2019-06-20T08:22:19.5 | 156.46 | 0 | NA    |\n",
       "| 1760 | station:svluwobs:svluw2:ctd_181_profiling:conductivity_awi_02:salinity           | station:svluwobs:svluw2:ctd_181:conductivity_awi:salinity       | station:svluwobs:svluw2:ctd_181_profiling:conductivity_awi_02:salinity           | 58 | 2019-06-20T08:22:19.5 |  35.04 | 0 | NA    |\n",
       "| 1761 | station:svluwobs:svluw2:ctd_181_profiling:oxygen_awi_1534:oxygen_mg_l            | station:svluwobs:svluw2:ctd_181:oxygen_awi:oxygen_mg_l          | station:svluwobs:svluw2:ctd_181_profiling:oxygen_awi_1534:oxygen_mg_l            | 58 | 2019-06-20T08:22:19.5 |  13.21 | 0 | NA    |\n",
       "| 1762 | station:svluwobs:svluw2:ctd_181_profiling:oxygen_awi_1534:oxygen_ml_l            | station:svluwobs:svluw2:ctd_181:oxygen_awi:oxygen_ml_l          | station:svluwobs:svluw2:ctd_181_profiling:oxygen_awi_1534:oxygen_ml_l            | 58 | 2019-06-20T08:22:19.5 |   9.25 | 0 | NA    |\n",
       "|  446 | station:svluwobs:svluw2:ctd_181:conductivity_awi_02:salinity                     | station:svluwobs:svluw2:ctd:conductivity_awi:salinity           | station:svluwobs:svluw2:ctd_181:conductivity_awi_02:salinity                     | 58 | 2019-06-20T08:01:21.5 |  35.19 | 0 | PSU   |\n",
       "|  442 | station:svluwobs:svluw2:ctd_181:conductivity_awi_02:conductivity                 | station:svluwobs:svluw2:ctd:conductivity_awi:conductivity       | station:svluwobs:svluw2:ctd_181:conductivity_awi_02:conductivity                 | 58 | 2019-06-20T08:01:21.5 |  33.26 | 0 | mS/cm |\n",
       "|  444 | station:svluwobs:svluw2:ctd_181:fluorescence_awi_2104589:chlorophyll_a           | station:svluwobs:svluw2:ctd:fluorescence_awi:chlorophyll_a      | station:svluwobs:svluw2:ctd_181:fluorescence_awi_2104589:chlorophyll_a           | 58 | 2019-06-20T08:01:21.5 |  48.95 | 0 | µg/L  |\n",
       "|  443 | station:svluwobs:svluw2:ctd_181:oxygen_awi_1534:oxygen_concentration             | station:svluwobs:svluw2:ctd:oxygen_awi:oxygen_concentration     | station:svluwobs:svluw2:ctd_181:oxygen_awi_1534:oxygen_concentration             | 58 | 2019-06-20T08:01:21.5 | 100.00 | 0 | %     |\n",
       "|  440 | station:svluwobs:svluw2:ctd_181:pressure_awi_02:pressure                         | station:svluwobs:svluw2:ctd:pressure_awi:pressure               | station:svluwobs:svluw2:ctd_181:pressure_awi_02:pressure                         | 58 | 2019-06-20T08:01:21.5 |   6.87 | 0 | dbar  |\n",
       "|  441 | station:svluwobs:svluw2:ctd_181:temperature_awi_02:temperature                   | station:svluwobs:svluw2:ctd:temperature_awi:temperature         | station:svluwobs:svluw2:ctd_181:temperature_awi_02:temperature                   | 58 | 2019-06-20T08:01:21.5 |   4.60 | 0 | °C    |\n",
       "|  445 | station:svluwobs:svluw2:ctd_181:turbidity_awi_10878:turbidity                    | station:svluwobs:svluw2:ctd:turbidity_awi:turbidity             | station:svluwobs:svluw2:ctd_181:turbidity_awi_10878:turbidity                    | 58 | 2019-06-20T08:01:21.5 | 164.37 | 0 | FTU   |\n",
       "|  447 | station:svluwobs:svluw2:ctd_181:oxygen_awi_1534:oxygen_mg_l                      | station:svluwobs:svluw2:ctd:oxygen_awi:oxygen_mg_l              | station:svluwobs:svluw2:ctd_181:oxygen_awi_1534:oxygen_mg_l                      | 58 | 2019-06-20T08:01:21.5 |  13.19 | 0 | mg/l  |\n",
       "|  448 | station:svluwobs:svluw2:ctd_181:oxygen_awi_1534:oxygen_ml_l                      | station:svluwobs:svluw2:ctd:oxygen_awi:oxygen_ml_l              | station:svluwobs:svluw2:ctd_181:oxygen_awi_1534:oxygen_ml_l                      | 58 | 2019-06-20T08:01:21.5 |   9.24 | 0 | ml/l  |\n",
       "\n"
      ],
      "text/plain": [
       "   id  \n",
       "1  1754\n",
       "2  1755\n",
       "3  1756\n",
       "4  1757\n",
       "5  1758\n",
       "6  1759\n",
       "7  1760\n",
       "8  1761\n",
       "9  1762\n",
       "10  446\n",
       "11  442\n",
       "12  444\n",
       "13  443\n",
       "14  440\n",
       "15  441\n",
       "16  445\n",
       "17  447\n",
       "18  448\n",
       "   code                                                                            \n",
       "1  station:svluwobs:svluw2:ctd_181_profiling:pressure_awi_02:pressure              \n",
       "2  station:svluwobs:svluw2:ctd_181_profiling:temperature_awi_02:temperature        \n",
       "3  station:svluwobs:svluw2:ctd_181_profiling:conductivity_awi_02:conductivity      \n",
       "4  station:svluwobs:svluw2:ctd_181_profiling:oxygen_awi_1534:oxygen_concentration  \n",
       "5  station:svluwobs:svluw2:ctd_181_profiling:fluorescence_awi_2104589:chlorophyll_a\n",
       "6  station:svluwobs:svluw2:ctd_181_profiling:turbidity_awi_10878:turbidity         \n",
       "7  station:svluwobs:svluw2:ctd_181_profiling:conductivity_awi_02:salinity          \n",
       "8  station:svluwobs:svluw2:ctd_181_profiling:oxygen_awi_1534:oxygen_mg_l           \n",
       "9  station:svluwobs:svluw2:ctd_181_profiling:oxygen_awi_1534:oxygen_ml_l           \n",
       "10 station:svluwobs:svluw2:ctd_181:conductivity_awi_02:salinity                    \n",
       "11 station:svluwobs:svluw2:ctd_181:conductivity_awi_02:conductivity                \n",
       "12 station:svluwobs:svluw2:ctd_181:fluorescence_awi_2104589:chlorophyll_a          \n",
       "13 station:svluwobs:svluw2:ctd_181:oxygen_awi_1534:oxygen_concentration            \n",
       "14 station:svluwobs:svluw2:ctd_181:pressure_awi_02:pressure                        \n",
       "15 station:svluwobs:svluw2:ctd_181:temperature_awi_02:temperature                  \n",
       "16 station:svluwobs:svluw2:ctd_181:turbidity_awi_10878:turbidity                   \n",
       "17 station:svluwobs:svluw2:ctd_181:oxygen_awi_1534:oxygen_mg_l                     \n",
       "18 station:svluwobs:svluw2:ctd_181:oxygen_awi_1534:oxygen_ml_l                     \n",
       "   logicalCode                                                    \n",
       "1  station:svluwobs:svluw2:ctd_181:pressure_awi:pressure          \n",
       "2  station:svluwobs:svluw2:ctd_181:temperature_awi:temperature    \n",
       "3  station:svluwobs:svluw2:ctd_181:conductivity_awi:conductivity  \n",
       "4  station:svluwobs:svluw2:ctd_181:oxygen_awi:oxygen_concentration\n",
       "5  station:svluwobs:svluw2:ctd_181:fluorescence_awi:chlorophyll_a \n",
       "6  station:svluwobs:svluw2:ctd_181:turbidity_awi:turbidity        \n",
       "7  station:svluwobs:svluw2:ctd_181:conductivity_awi:salinity      \n",
       "8  station:svluwobs:svluw2:ctd_181:oxygen_awi:oxygen_mg_l         \n",
       "9  station:svluwobs:svluw2:ctd_181:oxygen_awi:oxygen_ml_l         \n",
       "10 station:svluwobs:svluw2:ctd:conductivity_awi:salinity          \n",
       "11 station:svluwobs:svluw2:ctd:conductivity_awi:conductivity      \n",
       "12 station:svluwobs:svluw2:ctd:fluorescence_awi:chlorophyll_a     \n",
       "13 station:svluwobs:svluw2:ctd:oxygen_awi:oxygen_concentration    \n",
       "14 station:svluwobs:svluw2:ctd:pressure_awi:pressure              \n",
       "15 station:svluwobs:svluw2:ctd:temperature_awi:temperature        \n",
       "16 station:svluwobs:svluw2:ctd:turbidity_awi:turbidity            \n",
       "17 station:svluwobs:svluw2:ctd:oxygen_awi:oxygen_mg_l             \n",
       "18 station:svluwobs:svluw2:ctd:oxygen_awi:oxygen_ml_l             \n",
       "   sensor                                                                          \n",
       "1  station:svluwobs:svluw2:ctd_181_profiling:pressure_awi_02:pressure              \n",
       "2  station:svluwobs:svluw2:ctd_181_profiling:temperature_awi_02:temperature        \n",
       "3  station:svluwobs:svluw2:ctd_181_profiling:conductivity_awi_02:conductivity      \n",
       "4  station:svluwobs:svluw2:ctd_181_profiling:oxygen_awi_1534:oxygen_concentration  \n",
       "5  station:svluwobs:svluw2:ctd_181_profiling:fluorescence_awi_2104589:chlorophyll_a\n",
       "6  station:svluwobs:svluw2:ctd_181_profiling:turbidity_awi_10878:turbidity         \n",
       "7  station:svluwobs:svluw2:ctd_181_profiling:conductivity_awi_02:salinity          \n",
       "8  station:svluwobs:svluw2:ctd_181_profiling:oxygen_awi_1534:oxygen_mg_l           \n",
       "9  station:svluwobs:svluw2:ctd_181_profiling:oxygen_awi_1534:oxygen_ml_l           \n",
       "10 station:svluwobs:svluw2:ctd_181:conductivity_awi_02:salinity                    \n",
       "11 station:svluwobs:svluw2:ctd_181:conductivity_awi_02:conductivity                \n",
       "12 station:svluwobs:svluw2:ctd_181:fluorescence_awi_2104589:chlorophyll_a          \n",
       "13 station:svluwobs:svluw2:ctd_181:oxygen_awi_1534:oxygen_concentration            \n",
       "14 station:svluwobs:svluw2:ctd_181:pressure_awi_02:pressure                        \n",
       "15 station:svluwobs:svluw2:ctd_181:temperature_awi_02:temperature                  \n",
       "16 station:svluwobs:svluw2:ctd_181:turbidity_awi_10878:turbidity                   \n",
       "17 station:svluwobs:svluw2:ctd_181:oxygen_awi_1534:oxygen_mg_l                     \n",
       "18 station:svluwobs:svluw2:ctd_181:oxygen_awi_1534:oxygen_ml_l                     \n",
       "   platformId lastDate              lastValue lastQualityFlag unit \n",
       "1  58         2019-06-20T08:22:19.5   3.18    0               NA   \n",
       "2  58         2019-06-20T08:22:19.5   4.81    0               NA   \n",
       "3  58         2019-06-20T08:22:19.5  33.32    0               NA   \n",
       "4  58         2019-06-20T08:22:19.5 100.00    0               NA   \n",
       "5  58         2019-06-20T08:22:19.5  48.95    0               NA   \n",
       "6  58         2019-06-20T08:22:19.5 156.46    0               NA   \n",
       "7  58         2019-06-20T08:22:19.5  35.04    0               NA   \n",
       "8  58         2019-06-20T08:22:19.5  13.21    0               NA   \n",
       "9  58         2019-06-20T08:22:19.5   9.25    0               NA   \n",
       "10 58         2019-06-20T08:01:21.5  35.19    0               PSU  \n",
       "11 58         2019-06-20T08:01:21.5  33.26    0               mS/cm\n",
       "12 58         2019-06-20T08:01:21.5  48.95    0               µg/L \n",
       "13 58         2019-06-20T08:01:21.5 100.00    0               %    \n",
       "14 58         2019-06-20T08:01:21.5   6.87    0               dbar \n",
       "15 58         2019-06-20T08:01:21.5   4.60    0               °C   \n",
       "16 58         2019-06-20T08:01:21.5 164.37    0               FTU  \n",
       "17 58         2019-06-20T08:01:21.5  13.19    0               mg/l \n",
       "18 58         2019-06-20T08:01:21.5   9.24    0               ml/l "
      ]
     },
     "metadata": {},
     "output_type": "display_data"
    }
   ],
   "source": [
    "sensors <- dws.sensors(\"station:svluwobs:svluw2:ctd_181*\")\n",
    "sensors"
   ]
  },
  {
   "cell_type": "code",
   "execution_count": 11,
   "metadata": {},
   "outputs": [
    {
     "data": {
      "text/html": [
       "<table>\n",
       "<caption>A data.frame: 6 x 3</caption>\n",
       "<thead>\n",
       "\t<tr><th scope=col>datetime</th><th scope=col>station.svluwobs.svluw2.ctd_181_profiling.temperature_awi_02.temperature..mean....</th><th scope=col>station.svluwobs.svluw2.ctd_181_profiling.pressure_awi_02.pressure..mean....</th></tr>\n",
       "\t<tr><th scope=col>&lt;fct&gt;</th><th scope=col>&lt;dbl&gt;</th><th scope=col>&lt;dbl&gt;</th></tr>\n",
       "</thead>\n",
       "<tbody>\n",
       "\t<tr><td>2018-11-04T12:00:00.000</td><td>1.929671</td><td> 9.984364</td></tr>\n",
       "\t<tr><td>2018-11-04T13:00:00.000</td><td>1.726472</td><td> 9.799083</td></tr>\n",
       "\t<tr><td>2018-11-04T14:00:00.000</td><td>1.802425</td><td> 9.607586</td></tr>\n",
       "\t<tr><td>2018-11-04T15:00:00.000</td><td>1.755569</td><td> 9.504827</td></tr>\n",
       "\t<tr><td>2018-11-04T17:00:00.000</td><td>1.772445</td><td> 8.238086</td></tr>\n",
       "\t<tr><td>2018-11-05T09:00:00.000</td><td>2.121836</td><td>10.220000</td></tr>\n",
       "</tbody>\n",
       "</table>\n"
      ],
      "text/latex": [
       "A data.frame: 6 x 3\n",
       "\\begin{tabular}{r|lll}\n",
       " datetime & station.svluwobs.svluw2.ctd\\_181\\_profiling.temperature\\_awi\\_02.temperature..mean.... & station.svluwobs.svluw2.ctd\\_181\\_profiling.pressure\\_awi\\_02.pressure..mean....\\\\\n",
       " <fct> & <dbl> & <dbl>\\\\\n",
       "\\hline\n",
       "\t 2018-11-04T12:00:00.000 & 1.929671 &  9.984364\\\\\n",
       "\t 2018-11-04T13:00:00.000 & 1.726472 &  9.799083\\\\\n",
       "\t 2018-11-04T14:00:00.000 & 1.802425 &  9.607586\\\\\n",
       "\t 2018-11-04T15:00:00.000 & 1.755569 &  9.504827\\\\\n",
       "\t 2018-11-04T17:00:00.000 & 1.772445 &  8.238086\\\\\n",
       "\t 2018-11-05T09:00:00.000 & 2.121836 & 10.220000\\\\\n",
       "\\end{tabular}\n"
      ],
      "text/markdown": [
       "\n",
       "A data.frame: 6 x 3\n",
       "\n",
       "| datetime &lt;fct&gt; | station.svluwobs.svluw2.ctd_181_profiling.temperature_awi_02.temperature..mean.... &lt;dbl&gt; | station.svluwobs.svluw2.ctd_181_profiling.pressure_awi_02.pressure..mean.... &lt;dbl&gt; |\n",
       "|---|---|---|\n",
       "| 2018-11-04T12:00:00.000 | 1.929671 |  9.984364 |\n",
       "| 2018-11-04T13:00:00.000 | 1.726472 |  9.799083 |\n",
       "| 2018-11-04T14:00:00.000 | 1.802425 |  9.607586 |\n",
       "| 2018-11-04T15:00:00.000 | 1.755569 |  9.504827 |\n",
       "| 2018-11-04T17:00:00.000 | 1.772445 |  8.238086 |\n",
       "| 2018-11-05T09:00:00.000 | 2.121836 | 10.220000 |\n",
       "\n"
      ],
      "text/plain": [
       "  datetime               \n",
       "1 2018-11-04T12:00:00.000\n",
       "2 2018-11-04T13:00:00.000\n",
       "3 2018-11-04T14:00:00.000\n",
       "4 2018-11-04T15:00:00.000\n",
       "5 2018-11-04T17:00:00.000\n",
       "6 2018-11-05T09:00:00.000\n",
       "  station.svluwobs.svluw2.ctd_181_profiling.temperature_awi_02.temperature..mean....\n",
       "1 1.929671                                                                          \n",
       "2 1.726472                                                                          \n",
       "3 1.802425                                                                          \n",
       "4 1.755569                                                                          \n",
       "5 1.772445                                                                          \n",
       "6 2.121836                                                                          \n",
       "  station.svluwobs.svluw2.ctd_181_profiling.pressure_awi_02.pressure..mean....\n",
       "1  9.984364                                                                   \n",
       "2  9.799083                                                                   \n",
       "3  9.607586                                                                   \n",
       "4  9.504827                                                                   \n",
       "5  8.238086                                                                   \n",
       "6 10.220000                                                                   "
      ]
     },
     "metadata": {},
     "output_type": "display_data"
    }
   ],
   "source": [
    "data <- dws.get(\n",
    "  c(\"station:svluwobs:svluw2:ctd_181_profiling:temperature_awi_02:temperature\", \"station:svluwobs:svluw2:ctd_181_profiling:pressure_awi_02:pressure\"),\n",
    "  begin=\"2018-10-01\",\n",
    "  end=\"2018-11-05\",\n",
    "  aggregate = \"hour\")\n",
    "head(data)"
   ]
  },
  {
   "cell_type": "code",
   "execution_count": 12,
   "metadata": {},
   "outputs": [
    {
     "data": {
      "image/png": "[encoded data removed]",
      "text/plain": [
       "plot without title"
      ]
     },
     "metadata": {},
     "output_type": "display_data"
    }
   ],
   "source": [
    "library(ggplot2)\n",
    "library(scales)\n",
    "\n",
    "data$timestamp <- as.POSIXct(data$datetime, format = \"%Y-%m-%dT%H:%M:%S\")\n",
    "gg <- ggplot(data, aes(x = timestamp, y = -station.svluwobs.svluw2.ctd_181_profiling.pressure_awi_02.pressure..mean....)) +\n",
    "  geom_point(aes(col = station.svluwobs.svluw2.ctd_181_profiling.temperature_awi_02.temperature..mean....)) +\n",
    "  labs(title = \"Svalbard temperature at depths\", x = \"datetime\", y = \"~ depth [m]\", \"ok\") +\n",
    "  scale_color_gradientn(colors = rev(rainbow(5)), name = \"temperature [°C]\") +\n",
    "  scale_x_datetime(labels = date_format(\"%Y-%m-%d\"), date_breaks = \"7 days\")\n",
    "\n",
    "options(repr.plot.width = 10, repr.plot.height = 5)\n",
    "plot(gg)"
   ]
  },
  {
   "cell_type": "code",
   "execution_count": null,
   "metadata": {},
   "outputs": [],
   "source": []
  }
 ],
 "metadata": {
  "kernelspec": {
   "display_name": "R",
   "language": "R",
   "name": "ir"
  },
  "language_info": {
   "codemirror_mode": "r",
   "file_extension": ".r",
   "mimetype": "text/x-r-source",
   "name": "R",
   "pygments_lexer": "r",
   "version": "3.6.0"
  },
  "nbpresent": {
   "slides": {
    "10336334-8887-4c43-ae2e-b803664cb08c": {
     "id": "10336334-8887-4c43-ae2e-b803664cb08c",
     "prev": null,
     "regions": {
      "5109a010-541d-41bc-8a24-8d8193b474eb": {
       "attrs": {
        "height": 0.8,
        "width": 0.8,
        "x": 0.1,
        "y": 0.1
       },
       "content": {
        "cell": "93ec414a-2c2f-44ef-8dc3-543e6469734a",
        "part": "whole"
       },
       "id": "5109a010-541d-41bc-8a24-8d8193b474eb"
      }
     }
    },
    "203759db-cbef-41cf-a8fa-538ab394048b": {
     "id": "203759db-cbef-41cf-a8fa-538ab394048b",
     "prev": null,
     "regions": {
      "f72edb49-eb1f-4eee-9132-2b522aa2d72a": {
       "attrs": {
        "height": 0.8,
        "width": 0.8,
        "x": 0.1,
        "y": 0.1
       },
       "content": {
        "cell": "93ec414a-2c2f-44ef-8dc3-543e6469734a",
        "part": "whole"
       },
       "id": "f72edb49-eb1f-4eee-9132-2b522aa2d72a"
      }
     }
    },
    "2fd50fcb-832f-4112-8122-db0d0f085ef7": {
     "id": "2fd50fcb-832f-4112-8122-db0d0f085ef7",
     "prev": "6227da9b-1d4f-40d3-90de-103847186a8b",
     "regions": {
      "71e9c57d-9eba-4ddd-a599-1b299649f0f5": {
       "attrs": {
        "height": 0.8,
        "width": 0.8,
        "x": 0.1,
        "y": 0.1
       },
       "content": {
        "cell": "3dc5b9d5-a01f-446a-a176-59e7d6299796",
        "part": "whole"
       },
       "id": "71e9c57d-9eba-4ddd-a599-1b299649f0f5"
      }
     }
    },
    "48a02574-77b4-4ffa-8ac2-75849fc0c5a9": {
     "id": "48a02574-77b4-4ffa-8ac2-75849fc0c5a9",
     "prev": "10336334-8887-4c43-ae2e-b803664cb08c",
     "regions": {
      "f6195379-f5d8-4005-895b-cfabd04ba7e7": {
       "attrs": {
        "height": 0.8,
        "width": 0.8,
        "x": 0.1,
        "y": 0.1
       },
       "content": {
        "cell": "3dc5b9d5-a01f-446a-a176-59e7d6299796",
        "part": "whole"
       },
       "id": "f6195379-f5d8-4005-895b-cfabd04ba7e7"
      }
     }
    },
    "6227da9b-1d4f-40d3-90de-103847186a8b": {
     "id": "6227da9b-1d4f-40d3-90de-103847186a8b",
     "prev": null,
     "regions": {
      "439d077c-24b0-4897-a6ab-6116339433f0": {
       "attrs": {
        "height": 0.8,
        "width": 0.8,
        "x": 0.1,
        "y": 0.1
       },
       "content": {
        "cell": "93ec414a-2c2f-44ef-8dc3-543e6469734a",
        "part": "whole"
       },
       "id": "439d077c-24b0-4897-a6ab-6116339433f0"
      }
     }
    },
    "c667a1b7-4215-4690-aeee-4dd0fbd42594": {
     "id": "c667a1b7-4215-4690-aeee-4dd0fbd42594",
     "prev": "203759db-cbef-41cf-a8fa-538ab394048b",
     "regions": {
      "03de2fd5-ede0-496f-858f-00672e358f5d": {
       "attrs": {
        "height": 0.8,
        "width": 0.8,
        "x": 0.1,
        "y": 0.1
       },
       "content": {
        "cell": "3dc5b9d5-a01f-446a-a176-59e7d6299796",
        "part": "whole"
       },
       "id": "03de2fd5-ede0-496f-858f-00672e358f5d"
      }
     }
    }
   },
   "themes": {}
  }
 },
 "nbformat": 4,
 "nbformat_minor": 2
}
