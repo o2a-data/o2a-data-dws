{
 "cells": [
  {
   "cell_type": "markdown",
   "id": "77048719",
   "metadata": {
    "ein.tags": "worksheet-0",
    "slideshow": {
     "slide_type": "-"
    }
   },
   "source": [
    "Load basic module stored locally at the same directory."
   ]
  },
  {
   "cell_type": "code",
   "execution_count": 1,
   "id": "3a3375bc",
   "metadata": {
    "autoscroll": false,
    "collapsed": false,
    "ein.hycell": false,
    "ein.tags": "worksheet-0",
    "slideshow": {
     "slide_type": "-"
    }
   },
   "outputs": [],
   "source": [
    "\n",
    "import dws\n",
    "a = dws.dws()"
   ]
  },
  {
   "cell_type": "code",
   "execution_count": 2,
   "id": "b3d619dd",
   "metadata": {
    "autoscroll": false,
    "collapsed": false,
    "ein.hycell": false,
    "ein.tags": "worksheet-0",
    "slideshow": {
     "slide_type": "-"
    }
   },
   "outputs": [
    {
     "data": {
      "text/plain": [
       "[{'id': 9,\n",
       "  'code': 'vessel:heincke:dwd:air_pressure',\n",
       "  'logicalCode': 'vessel:heincke:dwd:air_pressure',\n",
       "  'sensor': 'vessel:heincke:dwd:air_pressure',\n",
       "  'unit': 'hPa',\n",
       "  'platformId': 1,\n",
       "  'firstDate': '2014-10-01T00:09:59',\n",
       "  'lastDate': '2024-03-19T10:02:22',\n",
       "  'lastValue': 1017.0,\n",
       "  'lastQualityFlag': 0,\n",
       "  'source': 'NRT'}]"
      ]
     },
     "execution_count": 2,
     "metadata": {},
     "output_type": "execute_result"
    }
   ],
   "source": [
    "urns = [\"vessel:heincke:dwd:air_temperature\", \"vessel:heincke:dwd:air_pressure\"]\n",
    "a.items(urns[1])\n"
   ]
  },
  {
   "cell_type": "markdown",
   "id": "c40bdb85",
   "metadata": {
    "ein.tags": "worksheet-0",
    "slideshow": {
     "slide_type": "-"
    }
   },
   "source": [
    "Download data from data service."
   ]
  },
  {
   "cell_type": "code",
   "execution_count": 3,
   "id": "b0136d46",
   "metadata": {
    "autoscroll": false,
    "collapsed": false,
    "ein.hycell": false,
    "ein.tags": "worksheet-0",
    "slideshow": {
     "slide_type": "-"
    }
   },
   "outputs": [
    {
     "data": {
      "text/html": [
       "<div>\n",
       "<style scoped>\n",
       "    .dataframe tbody tr th:only-of-type {\n",
       "        vertical-align: middle;\n",
       "    }\n",
       "\n",
       "    .dataframe tbody tr th {\n",
       "        vertical-align: top;\n",
       "    }\n",
       "\n",
       "    .dataframe thead th {\n",
       "        text-align: right;\n",
       "    }\n",
       "</style>\n",
       "<table border=\"1\" class=\"dataframe\">\n",
       "  <thead>\n",
       "    <tr style=\"text-align: right;\">\n",
       "      <th></th>\n",
       "      <th>datetime</th>\n",
       "      <th>vessel:heincke:dwd:air_temperature (mean) [°C]</th>\n",
       "      <th>vessel:heincke:dwd:air_pressure (mean) [hPa]</th>\n",
       "    </tr>\n",
       "  </thead>\n",
       "  <tbody>\n",
       "    <tr>\n",
       "      <th>0</th>\n",
       "      <td>2024-03-18 20:00:00</td>\n",
       "      <td>7.366667</td>\n",
       "      <td>1018.000000</td>\n",
       "    </tr>\n",
       "    <tr>\n",
       "      <th>1</th>\n",
       "      <td>2024-03-18 21:00:00</td>\n",
       "      <td>7.650000</td>\n",
       "      <td>1017.500000</td>\n",
       "    </tr>\n",
       "    <tr>\n",
       "      <th>2</th>\n",
       "      <td>2024-03-18 22:00:00</td>\n",
       "      <td>7.366667</td>\n",
       "      <td>1018.000000</td>\n",
       "    </tr>\n",
       "    <tr>\n",
       "      <th>3</th>\n",
       "      <td>2024-03-18 23:00:00</td>\n",
       "      <td>7.316667</td>\n",
       "      <td>1017.333333</td>\n",
       "    </tr>\n",
       "    <tr>\n",
       "      <th>4</th>\n",
       "      <td>2024-03-19 00:00:00</td>\n",
       "      <td>7.316667</td>\n",
       "      <td>1017.000000</td>\n",
       "    </tr>\n",
       "    <tr>\n",
       "      <th>5</th>\n",
       "      <td>2024-03-19 01:00:00</td>\n",
       "      <td>7.300000</td>\n",
       "      <td>1017.000000</td>\n",
       "    </tr>\n",
       "    <tr>\n",
       "      <th>6</th>\n",
       "      <td>2024-03-19 02:00:00</td>\n",
       "      <td>7.266667</td>\n",
       "      <td>1016.333333</td>\n",
       "    </tr>\n",
       "    <tr>\n",
       "      <th>7</th>\n",
       "      <td>2024-03-19 03:00:00</td>\n",
       "      <td>7.166667</td>\n",
       "      <td>1016.000000</td>\n",
       "    </tr>\n",
       "    <tr>\n",
       "      <th>8</th>\n",
       "      <td>2024-03-19 04:00:00</td>\n",
       "      <td>7.066667</td>\n",
       "      <td>1016.000000</td>\n",
       "    </tr>\n",
       "    <tr>\n",
       "      <th>9</th>\n",
       "      <td>2024-03-19 05:00:00</td>\n",
       "      <td>7.066667</td>\n",
       "      <td>1016.666667</td>\n",
       "    </tr>\n",
       "    <tr>\n",
       "      <th>10</th>\n",
       "      <td>2024-03-19 06:00:00</td>\n",
       "      <td>7.033333</td>\n",
       "      <td>1017.000000</td>\n",
       "    </tr>\n",
       "    <tr>\n",
       "      <th>11</th>\n",
       "      <td>2024-03-19 07:00:00</td>\n",
       "      <td>7.200000</td>\n",
       "      <td>1017.000000</td>\n",
       "    </tr>\n",
       "    <tr>\n",
       "      <th>12</th>\n",
       "      <td>2024-03-19 08:00:00</td>\n",
       "      <td>7.283333</td>\n",
       "      <td>1017.000000</td>\n",
       "    </tr>\n",
       "    <tr>\n",
       "      <th>13</th>\n",
       "      <td>2024-03-19 09:00:00</td>\n",
       "      <td>7.833333</td>\n",
       "      <td>1017.000000</td>\n",
       "    </tr>\n",
       "  </tbody>\n",
       "</table>\n",
       "</div>"
      ],
      "text/plain": [
       "              datetime  vessel:heincke:dwd:air_temperature (mean) [°C]  \\\n",
       "0  2024-03-18 20:00:00                                        7.366667   \n",
       "1  2024-03-18 21:00:00                                        7.650000   \n",
       "2  2024-03-18 22:00:00                                        7.366667   \n",
       "3  2024-03-18 23:00:00                                        7.316667   \n",
       "4  2024-03-19 00:00:00                                        7.316667   \n",
       "5  2024-03-19 01:00:00                                        7.300000   \n",
       "6  2024-03-19 02:00:00                                        7.266667   \n",
       "7  2024-03-19 03:00:00                                        7.166667   \n",
       "8  2024-03-19 04:00:00                                        7.066667   \n",
       "9  2024-03-19 05:00:00                                        7.066667   \n",
       "10 2024-03-19 06:00:00                                        7.033333   \n",
       "11 2024-03-19 07:00:00                                        7.200000   \n",
       "12 2024-03-19 08:00:00                                        7.283333   \n",
       "13 2024-03-19 09:00:00                                        7.833333   \n",
       "\n",
       "    vessel:heincke:dwd:air_pressure (mean) [hPa]  \n",
       "0                                    1018.000000  \n",
       "1                                    1017.500000  \n",
       "2                                    1018.000000  \n",
       "3                                    1017.333333  \n",
       "4                                    1017.000000  \n",
       "5                                    1017.000000  \n",
       "6                                    1016.333333  \n",
       "7                                    1016.000000  \n",
       "8                                    1016.000000  \n",
       "9                                    1016.666667  \n",
       "10                                   1017.000000  \n",
       "11                                   1017.000000  \n",
       "12                                   1017.000000  \n",
       "13                                   1017.000000  "
      ]
     },
     "execution_count": 3,
     "metadata": {},
     "output_type": "execute_result"
    }
   ],
   "source": [
    "\n",
    "dateIn = \"2024-03-18T20:00:00\"\n",
    "dateOut = \"2024-03-19T09:24:28\"\n",
    "urns = \"vessel:heincke:dwd:air_temperature, vessel:heincke:dwd:air_pressure\"\n",
    "a.downloadDataFromDWS(items = urns, begin = dateIn, end = dateOut)"
   ]
  },
  {
   "cell_type": "code",
   "execution_count": 4,
   "id": "e3cae26c",
   "metadata": {
    "autoscroll": false,
    "collapsed": false,
    "ein.hycell": false,
    "ein.tags": "worksheet-0",
    "slideshow": {
     "slide_type": "-"
    }
   },
   "outputs": [
    {
     "data": {
      "text/html": [
       "<div>\n",
       "<style scoped>\n",
       "    .dataframe tbody tr th:only-of-type {\n",
       "        vertical-align: middle;\n",
       "    }\n",
       "\n",
       "    .dataframe tbody tr th {\n",
       "        vertical-align: top;\n",
       "    }\n",
       "\n",
       "    .dataframe thead th {\n",
       "        text-align: right;\n",
       "    }\n",
       "</style>\n",
       "<table border=\"1\" class=\"dataframe\">\n",
       "  <thead>\n",
       "    <tr style=\"text-align: right;\">\n",
       "      <th></th>\n",
       "      <th>datetime</th>\n",
       "      <th>vessel:heincke:dwd:air_temperature (mean) [°C]</th>\n",
       "      <th>vessel:heincke:dwd:air_pressure (mean) [hPa]</th>\n",
       "    </tr>\n",
       "  </thead>\n",
       "  <tbody>\n",
       "    <tr>\n",
       "      <th>0</th>\n",
       "      <td>2024-03-18 20:02:00</td>\n",
       "      <td>7.3</td>\n",
       "      <td>1018.0</td>\n",
       "    </tr>\n",
       "    <tr>\n",
       "      <th>1</th>\n",
       "      <td>2024-03-18 20:12:00</td>\n",
       "      <td>7.3</td>\n",
       "      <td>1018.0</td>\n",
       "    </tr>\n",
       "    <tr>\n",
       "      <th>2</th>\n",
       "      <td>2024-03-18 20:22:00</td>\n",
       "      <td>7.3</td>\n",
       "      <td>1018.0</td>\n",
       "    </tr>\n",
       "    <tr>\n",
       "      <th>3</th>\n",
       "      <td>2024-03-18 20:32:00</td>\n",
       "      <td>7.4</td>\n",
       "      <td>1018.0</td>\n",
       "    </tr>\n",
       "    <tr>\n",
       "      <th>4</th>\n",
       "      <td>2024-03-18 20:42:00</td>\n",
       "      <td>7.5</td>\n",
       "      <td>1018.0</td>\n",
       "    </tr>\n",
       "    <tr>\n",
       "      <th>...</th>\n",
       "      <td>...</td>\n",
       "      <td>...</td>\n",
       "      <td>...</td>\n",
       "    </tr>\n",
       "    <tr>\n",
       "      <th>76</th>\n",
       "      <td>2024-03-19 08:42:00</td>\n",
       "      <td>7.3</td>\n",
       "      <td>1017.0</td>\n",
       "    </tr>\n",
       "    <tr>\n",
       "      <th>77</th>\n",
       "      <td>2024-03-19 08:52:00</td>\n",
       "      <td>7.2</td>\n",
       "      <td>1017.0</td>\n",
       "    </tr>\n",
       "    <tr>\n",
       "      <th>78</th>\n",
       "      <td>2024-03-19 09:02:00</td>\n",
       "      <td>7.4</td>\n",
       "      <td>1017.0</td>\n",
       "    </tr>\n",
       "    <tr>\n",
       "      <th>79</th>\n",
       "      <td>2024-03-19 09:12:00</td>\n",
       "      <td>7.5</td>\n",
       "      <td>1017.0</td>\n",
       "    </tr>\n",
       "    <tr>\n",
       "      <th>80</th>\n",
       "      <td>2024-03-19 09:22:00</td>\n",
       "      <td>7.7</td>\n",
       "      <td>1017.0</td>\n",
       "    </tr>\n",
       "  </tbody>\n",
       "</table>\n",
       "<p>81 rows × 3 columns</p>\n",
       "</div>"
      ],
      "text/plain": [
       "              datetime  vessel:heincke:dwd:air_temperature (mean) [°C]  \\\n",
       "0  2024-03-18 20:02:00                                             7.3   \n",
       "1  2024-03-18 20:12:00                                             7.3   \n",
       "2  2024-03-18 20:22:00                                             7.3   \n",
       "3  2024-03-18 20:32:00                                             7.4   \n",
       "4  2024-03-18 20:42:00                                             7.5   \n",
       "..                 ...                                             ...   \n",
       "76 2024-03-19 08:42:00                                             7.3   \n",
       "77 2024-03-19 08:52:00                                             7.2   \n",
       "78 2024-03-19 09:02:00                                             7.4   \n",
       "79 2024-03-19 09:12:00                                             7.5   \n",
       "80 2024-03-19 09:22:00                                             7.7   \n",
       "\n",
       "    vessel:heincke:dwd:air_pressure (mean) [hPa]  \n",
       "0                                         1018.0  \n",
       "1                                         1018.0  \n",
       "2                                         1018.0  \n",
       "3                                         1018.0  \n",
       "4                                         1018.0  \n",
       "..                                           ...  \n",
       "76                                        1017.0  \n",
       "77                                        1017.0  \n",
       "78                                        1017.0  \n",
       "79                                        1017.0  \n",
       "80                                        1017.0  \n",
       "\n",
       "[81 rows x 3 columns]"
      ]
     },
     "execution_count": 4,
     "metadata": {},
     "output_type": "execute_result"
    }
   ],
   "source": [
    "a.downloadDataFromDWS(items = urns, begin = dateIn, end = dateOut, aggregate = 'minute')\n"
   ]
  },
  {
   "cell_type": "markdown",
   "id": "03a3133c",
   "metadata": {
    "ein.tags": "worksheet-0",
    "slideshow": {
     "slide_type": "-"
    }
   },
   "source": [
    "Getting more metadata about an item. Either to be put in urn-syntax:"
   ]
  },
  {
   "cell_type": "code",
   "execution_count": 5,
   "id": "c7229ce1",
   "metadata": {
    "autoscroll": false,
    "collapsed": false,
    "ein.hycell": false,
    "ein.tags": "worksheet-0",
    "slideshow": {
     "slide_type": "-"
    }
   },
   "outputs": [
    {
     "data": {
      "text/plain": [
       "{'@uuid': '972f7341-7524-40ac-ad5d-1ab2b0603fe1',\n",
       " 'id': 560,\n",
       " 'created': '2016-06-26T22:00:00',\n",
       " 'lastModified': '2024-01-17T18:17:13.759',\n",
       " 'code': 'vessel:mya_ii:fb_741202:optode_9999a',\n",
       " 'shortName': 'Optode_9999a',\n",
       " 'longName': 'Optode',\n",
       " 'description': 'The Aanderaa oxygen optodes are based on the ability of selected substances to act as dynamic uorescence quenchers. The uorescent indicator is a special platinum porphyrin complex embedded in a gas permeable foil that is exposed to the surrounding water. A black optical isolation coating protects the complex from sunlight and uorescent particles in the water. This sensing foil is attached to a window providing optical access for the measuring system from inside awatertight housing.Thefoilisexcitedbymodulated blue light, and the phase of a returned red light is measured. By linearizing and temperature compensating, with an incorporated temperature sensor, the absolute O2 concentration can be determined.',\n",
       " 'model': 'OXYGEN OPTODE 4835',\n",
       " 'manufacturer': 'Aanderaa',\n",
       " 'serialNumber': '9999a',\n",
       " 'inventoryNumber': '',\n",
       " 'citation': '10013/sensor.51ea3572-e557-4b2b-a202-3b749a87bf84',\n",
       " 'parentId': 508,\n",
       " 'status': {'@uuid': 'a080ff68-30b2-450a-9a44-06ecd244c0b7',\n",
       "  'id': 1,\n",
       "  'lastModified': '2020-11-18T08:14:53.011',\n",
       "  'name': 'public',\n",
       "  'meta': 'Item is completely described and operational.'},\n",
       " 'type': {'@uuid': '1968baba-6b7b-4fff-a96c-99a9911abd6b',\n",
       "  'id': 118,\n",
       "  'lastModified': '2022-09-14T07:50:50.949',\n",
       "  'generalName': 'oxygen sensor',\n",
       "  'systemName': 'oxygen_sensor',\n",
       "  'description': 'An instrument that may be incorporated into a sensor package to measure dissolved oxygen concentrations in place in the field. ',\n",
       "  'vocabulary': 'NERC',\n",
       "  'vocableValue': 'https://vocab.nerc.ac.uk/collection/S04/current/S04276/ ',\n",
       "  'vocableGroup': {'@uuid': '85694c85-5aee-441f-a88a-a6bb8f1d0885',\n",
       "   'id': 7,\n",
       "   'name': 'Device Types',\n",
       "   'systemName': 'DeviceTypes'}},\n",
       " 'version': 1,\n",
       " 'itemProperties': []}"
      ]
     },
     "execution_count": 5,
     "metadata": {},
     "output_type": "execute_result"
    }
   ],
   "source": [
    "urn = \"vessel:mya_ii:fb_741202:optode_9999a\"\n",
    "\n",
    "a.item(code = urn)"
   ]
  },
  {
   "cell_type": "markdown",
   "id": "7d10fb00",
   "metadata": {
    "ein.tags": "worksheet-0",
    "slideshow": {
     "slide_type": "-"
    }
   },
   "source": [
    "Or the numeric identifier can be pasted. The results are identical."
   ]
  },
  {
   "cell_type": "code",
   "execution_count": 6,
   "id": "ceff7845",
   "metadata": {
    "autoscroll": false,
    "collapsed": false,
    "ein.hycell": false,
    "ein.tags": "worksheet-0",
    "slideshow": {
     "slide_type": "-"
    }
   },
   "outputs": [
    {
     "data": {
      "text/plain": [
       "{'@uuid': '972f7341-7524-40ac-ad5d-1ab2b0603fe1',\n",
       " 'id': 560,\n",
       " 'created': '2016-06-26T22:00:00',\n",
       " 'lastModified': '2024-01-17T18:17:13.759',\n",
       " 'code': 'vessel:mya_ii:fb_741202:optode_9999a',\n",
       " 'shortName': 'Optode_9999a',\n",
       " 'longName': 'Optode',\n",
       " 'description': 'The Aanderaa oxygen optodes are based on the ability of selected substances to act as dynamic uorescence quenchers. The uorescent indicator is a special platinum porphyrin complex embedded in a gas permeable foil that is exposed to the surrounding water. A black optical isolation coating protects the complex from sunlight and uorescent particles in the water. This sensing foil is attached to a window providing optical access for the measuring system from inside awatertight housing.Thefoilisexcitedbymodulated blue light, and the phase of a returned red light is measured. By linearizing and temperature compensating, with an incorporated temperature sensor, the absolute O2 concentration can be determined.',\n",
       " 'model': 'OXYGEN OPTODE 4835',\n",
       " 'manufacturer': 'Aanderaa',\n",
       " 'serialNumber': '9999a',\n",
       " 'inventoryNumber': '',\n",
       " 'citation': '10013/sensor.51ea3572-e557-4b2b-a202-3b749a87bf84',\n",
       " 'parentId': 508,\n",
       " 'status': {'@uuid': 'a080ff68-30b2-450a-9a44-06ecd244c0b7',\n",
       "  'id': 1,\n",
       "  'lastModified': '2020-11-18T08:14:53.011',\n",
       "  'name': 'public',\n",
       "  'meta': 'Item is completely described and operational.'},\n",
       " 'type': {'@uuid': '1968baba-6b7b-4fff-a96c-99a9911abd6b',\n",
       "  'id': 118,\n",
       "  'lastModified': '2022-09-14T07:50:50.949',\n",
       "  'generalName': 'oxygen sensor',\n",
       "  'systemName': 'oxygen_sensor',\n",
       "  'description': 'An instrument that may be incorporated into a sensor package to measure dissolved oxygen concentrations in place in the field. ',\n",
       "  'vocabulary': 'NERC',\n",
       "  'vocableValue': 'https://vocab.nerc.ac.uk/collection/S04/current/S04276/ ',\n",
       "  'vocableGroup': {'@uuid': '85694c85-5aee-441f-a88a-a6bb8f1d0885',\n",
       "   'id': 7,\n",
       "   'name': 'Device Types',\n",
       "   'systemName': 'DeviceTypes'}},\n",
       " 'version': 1,\n",
       " 'itemProperties': []}"
      ]
     },
     "execution_count": 6,
     "metadata": {},
     "output_type": "execute_result"
    }
   ],
   "source": [
    "a.item(code = 560)"
   ]
  },
  {
   "cell_type": "markdown",
   "id": "8ef43982",
   "metadata": {
    "ein.tags": "worksheet-0",
    "slideshow": {
     "slide_type": "-"
    }
   },
   "source": [
    "\n",
    "Be aware that only the first occurence of an information is printed entirely. The remaining occurences are references. The parameters can be retrieved as follows: "
   ]
  },
  {
   "cell_type": "code",
   "execution_count": 9,
   "id": "2ffab65d",
   "metadata": {
    "autoscroll": false,
    "collapsed": false,
    "ein.hycell": false,
    "ein.tags": "worksheet-0",
    "slideshow": {
     "slide_type": "-"
    }
   },
   "outputs": [
    {
     "data": {
      "text/plain": [
       "[{'@uuid': 'a5be7faa-7f97-4059-a3ca-1d05cbd542e2',\n",
       "  'id': 652,\n",
       "  'name': 'Saturation',\n",
       "  'shortName': 'saturation',\n",
       "  'unit': {'@uuid': 'b8e0d45f-4490-497d-bbca-17831378ffe6',\n",
       "   'id': 12,\n",
       "   'code': '%',\n",
       "   'name': 'percent',\n",
       "   'typicalUse': 'concentration, amount, quantity, quality',\n",
       "   'ucum': '%',\n",
       "   'mathML': '{%}',\n",
       "   'visible': True},\n",
       "  'type': {'@uuid': '2b17bdd5-26a6-400c-b26d-086ca7e4f8ad',\n",
       "   'id': 221,\n",
       "   'lastModified': '2022-09-13T17:03:16.577',\n",
       "   'generalName': 'saturation',\n",
       "   'systemName': 'saturation',\n",
       "   'description': 'A ratio of the measured concentration of a dissolved element or compund in the water to the maximum amount of that element or compound that will dissolve in the water at that temperature and pressure under stable equilibrium',\n",
       "   'vocabulary': 'NERC',\n",
       "   'vocableValue': 'https://vocab.nerc.ac.uk/collection/S06/current/S0600051/ ',\n",
       "   'vocableGroup': 'b876cf1e-b073-4569-9ab6-8fa33ff3108c'},\n",
       "  'properties': [],\n",
       "  'urn': 'vessel:mya_ii:fb_741202:optode_9999a:saturation'},\n",
       " {'@uuid': 'e7b880f1-d237-4fc0-8ce3-833a997dc0ca',\n",
       "  'id': 759,\n",
       "  'name': 'O2 Corr',\n",
       "  'shortName': 'o2_corr',\n",
       "  'unit': 'acbd5aa2-df76-4194-843c-e05018798220',\n",
       "  'type': 'c32366c1-87c1-4fee-8bd1-42420a01c6aa',\n",
       "  'properties': [],\n",
       "  'urn': 'vessel:mya_ii:fb_741202:optode_9999a:o2_corr'},\n",
       " {'@uuid': '51d642d4-8ef2-4948-a598-ce8501c1e9dc',\n",
       "  'id': 102121,\n",
       "  'name': 'Saturation QF',\n",
       "  'shortName': 'saturation_qf',\n",
       "  'comment': '\\n',\n",
       "  'unit': 'b8e0d45f-4490-497d-bbca-17831378ffe6',\n",
       "  'type': '2b17bdd5-26a6-400c-b26d-086ca7e4f8ad',\n",
       "  'properties': [],\n",
       "  'urn': 'vessel:mya_ii:fb_741202:optode_9999a:saturation_qf'}]"
      ]
     },
     "execution_count": 9,
     "metadata": {},
     "output_type": "execute_result"
    }
   ],
   "source": [
    "a.parameters(urn)[1:4]"
   ]
  },
  {
   "cell_type": "markdown",
   "id": "3b5b3062",
   "metadata": {
    "ein.tags": "worksheet-0",
    "slideshow": {
     "slide_type": "-"
    }
   },
   "source": [
    "\n",
    "Output list of all events, here restricted to list items 1-4 (to avoid excessive output):"
   ]
  },
  {
   "cell_type": "code",
   "execution_count": 10,
   "id": "680e6297",
   "metadata": {
    "autoscroll": false,
    "collapsed": false,
    "ein.hycell": false,
    "ein.tags": "worksheet-0",
    "slideshow": {
     "slide_type": "-"
    }
   },
   "outputs": [
    {
     "data": {
      "text/plain": [
       "[{'@uuid': 'f10d83d1-9ea7-4f13-8644-44aa8311344b',\n",
       "  'id': 43279,\n",
       "  'startDate': '2020-08-31T05:14:00',\n",
       "  'endDate': '2020-08-31T05:22:00',\n",
       "  'latitude': 53.9048,\n",
       "  'longitude': 8.7049,\n",
       "  'elevation': 13.0,\n",
       "  'label': 'MOSES Sternfahrt 5 M-1',\n",
       "  'description': 'surface (1 m) bottom (13 m)',\n",
       "  'type': {'@uuid': '047a4f46-020b-4187-808a-6f245caebbc3',\n",
       "   'id': 187,\n",
       "   'lastModified': '2020-11-18T08:16:27.455',\n",
       "   'generalName': 'Deployment',\n",
       "   'systemName': 'Deployment',\n",
       "   'description': 'A device is deployed, means it is in operational use. Deployment applies to small-scale vehicles and ship-operated devices, such as CTD rosettes, buoys, etc.. ',\n",
       "   'vocabulary': 'NERC',\n",
       "   'vocableValue': 'https://vocab.nerc.ac.uk/collection/W03/current/W030002/',\n",
       "   'vocableGroup': '2ea05127-95fd-4f2d-aa68-82ea0283aaaf'}},\n",
       " {'@uuid': '9a83740d-1eba-4046-a780-b8f4c12c86ae',\n",
       "  'id': 43280,\n",
       "  'startDate': '2020-08-31T06:13:00',\n",
       "  'endDate': '2020-08-31T06:21:00',\n",
       "  'latitude': 53.9494,\n",
       "  'longitude': 8.6563,\n",
       "  'elevation': 14.0,\n",
       "  'label': 'MOSES Sternfahrt 5 M-2',\n",
       "  'description': 'surface (1 m) bottom (13 m)',\n",
       "  'type': {'@uuid': '047a4f46-020b-4187-808a-6f245caebbc3',\n",
       "   'id': 187,\n",
       "   'lastModified': '2020-11-18T08:16:27.455',\n",
       "   'generalName': 'Deployment',\n",
       "   'systemName': 'Deployment',\n",
       "   'description': 'A device is deployed, means it is in operational use. Deployment applies to small-scale vehicles and ship-operated devices, such as CTD rosettes, buoys, etc.. ',\n",
       "   'vocabulary': 'NERC',\n",
       "   'vocableValue': 'https://vocab.nerc.ac.uk/collection/W03/current/W030002/',\n",
       "   'vocableGroup': '2ea05127-95fd-4f2d-aa68-82ea0283aaaf'}}]"
      ]
     },
     "execution_count": 10,
     "metadata": {},
     "output_type": "execute_result"
    }
   ],
   "source": [
    "a.events(urn)[1:3]"
   ]
  },
  {
   "cell_type": "code",
   "execution_count": 14,
   "id": "39fcb3cb",
   "metadata": {
    "autoscroll": false,
    "collapsed": false,
    "ein.hycell": false,
    "ein.tags": "worksheet-0",
    "slideshow": {
     "slide_type": "-"
    }
   },
   "outputs": [
    {
     "data": {
      "text/plain": [
       "[{'@uuid': '2d60b28f-174d-4d5c-a5bb-f58703ad97d8',\n",
       "  'id': 43283,\n",
       "  'startDate': '2020-08-31T08:31:00',\n",
       "  'endDate': '2020-08-31T08:39:00',\n",
       "  'latitude': 54.0216,\n",
       "  'longitude': 8.3036,\n",
       "  'elevation': 10.5,\n",
       "  'label': 'MOSES Sternfahrt 5 M-5',\n",
       "  'description': 'surface (1 m) bottom (10 m)',\n",
       "  'type': {'@uuid': '047a4f46-020b-4187-808a-6f245caebbc3',\n",
       "   'id': 187,\n",
       "   'lastModified': '2020-11-18T08:16:27.455',\n",
       "   'generalName': 'Deployment',\n",
       "   'systemName': 'Deployment',\n",
       "   'description': 'A device is deployed, means it is in operational use. Deployment applies to small-scale vehicles and ship-operated devices, such as CTD rosettes, buoys, etc.. ',\n",
       "   'vocabulary': 'NERC',\n",
       "   'vocableValue': 'https://vocab.nerc.ac.uk/collection/W03/current/W030002/',\n",
       "   'vocableGroup': '2ea05127-95fd-4f2d-aa68-82ea0283aaaf'}},\n",
       " {'@uuid': '790eea00-73f1-448c-9c95-ab106b6426bb',\n",
       "  'id': 43284,\n",
       "  'startDate': '2020-08-31T09:28:00',\n",
       "  'endDate': '2020-08-31T09:37:00',\n",
       "  'latitude': 54.0792,\n",
       "  'longitude': 8.13985,\n",
       "  'elevation': 20.0,\n",
       "  'label': 'MOSES Sternfahrt 5 M-6',\n",
       "  'description': 'surface (1 m) bottom (20 m)',\n",
       "  'type': {'@uuid': '047a4f46-020b-4187-808a-6f245caebbc3',\n",
       "   'id': 187,\n",
       "   'lastModified': '2020-11-18T08:16:27.455',\n",
       "   'generalName': 'Deployment',\n",
       "   'systemName': 'Deployment',\n",
       "   'description': 'A device is deployed, means it is in operational use. Deployment applies to small-scale vehicles and ship-operated devices, such as CTD rosettes, buoys, etc.. ',\n",
       "   'vocabulary': 'NERC',\n",
       "   'vocableValue': 'https://vocab.nerc.ac.uk/collection/W03/current/W030002/',\n",
       "   'vocableGroup': '2ea05127-95fd-4f2d-aa68-82ea0283aaaf'}},\n",
       " {'@uuid': 'dc515110-197d-48db-97cf-c9a590426a4b',\n",
       "  'id': 43285,\n",
       "  'startDate': '2020-08-31T10:22:00',\n",
       "  'endDate': '2020-08-31T10:33:00',\n",
       "  'latitude': 54.11095,\n",
       "  'longitude': 8.05485,\n",
       "  'elevation': 24.5,\n",
       "  'label': 'MOSES Sternfahrt 5 M-7',\n",
       "  'description': 'surface (1 m) bottom (20 m)',\n",
       "  'type': {'@uuid': '047a4f46-020b-4187-808a-6f245caebbc3',\n",
       "   'id': 187,\n",
       "   'lastModified': '2020-11-18T08:16:27.455',\n",
       "   'generalName': 'Deployment',\n",
       "   'systemName': 'Deployment',\n",
       "   'description': 'A device is deployed, means it is in operational use. Deployment applies to small-scale vehicles and ship-operated devices, such as CTD rosettes, buoys, etc.. ',\n",
       "   'vocabulary': 'NERC',\n",
       "   'vocableValue': 'https://vocab.nerc.ac.uk/collection/W03/current/W030002/',\n",
       "   'vocableGroup': '2ea05127-95fd-4f2d-aa68-82ea0283aaaf'}},\n",
       " {'@uuid': 'df9aa67a-fdea-4f96-ae72-265696512eba',\n",
       "  'id': 43286,\n",
       "  'startDate': '2020-08-31T10:56:00',\n",
       "  'endDate': '2020-08-31T11:06:00',\n",
       "  'latitude': 54.1395,\n",
       "  'longitude': 7.9763,\n",
       "  'elevation': 40.5,\n",
       "  'label': 'MOSES Sternfahrt 5 M-8',\n",
       "  'description': 'surface (1 m) bottom (20 m)',\n",
       "  'type': {'@uuid': '047a4f46-020b-4187-808a-6f245caebbc3',\n",
       "   'id': 187,\n",
       "   'lastModified': '2020-11-18T08:16:27.455',\n",
       "   'generalName': 'Deployment',\n",
       "   'systemName': 'Deployment',\n",
       "   'description': 'A device is deployed, means it is in operational use. Deployment applies to small-scale vehicles and ship-operated devices, such as CTD rosettes, buoys, etc.. ',\n",
       "   'vocabulary': 'NERC',\n",
       "   'vocableValue': 'https://vocab.nerc.ac.uk/collection/W03/current/W030002/',\n",
       "   'vocableGroup': '2ea05127-95fd-4f2d-aa68-82ea0283aaaf'}},\n",
       " {'@uuid': 'cfacaf4c-62ae-48ad-8771-649d5cc97bd7',\n",
       "  'id': 43287,\n",
       "  'startDate': '2020-09-01T04:54:00',\n",
       "  'endDate': '2020-09-01T05:09:00',\n",
       "  'latitude': 54.14835,\n",
       "  'longitude': 7.9306,\n",
       "  'elevation': 46.5,\n",
       "  'label': 'MOSES Sternfahrt 5 M-9',\n",
       "  'description': 'surface (1 m) bottom (20 m)',\n",
       "  'type': {'@uuid': '047a4f46-020b-4187-808a-6f245caebbc3',\n",
       "   'id': 187,\n",
       "   'lastModified': '2020-11-18T08:16:27.455',\n",
       "   'generalName': 'Deployment',\n",
       "   'systemName': 'Deployment',\n",
       "   'description': 'A device is deployed, means it is in operational use. Deployment applies to small-scale vehicles and ship-operated devices, such as CTD rosettes, buoys, etc.. ',\n",
       "   'vocabulary': 'NERC',\n",
       "   'vocableValue': 'https://vocab.nerc.ac.uk/collection/W03/current/W030002/',\n",
       "   'vocableGroup': '2ea05127-95fd-4f2d-aa68-82ea0283aaaf'}},\n",
       " {'@uuid': '64b89027-4eb4-4993-9f79-c98b996d51cb',\n",
       "  'id': 43288,\n",
       "  'startDate': '2020-09-01T06:21:00',\n",
       "  'endDate': '2020-09-01T06:30:00',\n",
       "  'latitude': 54.003600000000006,\n",
       "  'longitude': 8.00705,\n",
       "  'elevation': 31.0,\n",
       "  'label': 'MOSES Sternfahrt 5 M-10',\n",
       "  'description': 'surface (1 m) bottom (20 m)',\n",
       "  'type': {'@uuid': '047a4f46-020b-4187-808a-6f245caebbc3',\n",
       "   'id': 187,\n",
       "   'lastModified': '2020-11-18T08:16:27.455',\n",
       "   'generalName': 'Deployment',\n",
       "   'systemName': 'Deployment',\n",
       "   'description': 'A device is deployed, means it is in operational use. Deployment applies to small-scale vehicles and ship-operated devices, such as CTD rosettes, buoys, etc.. ',\n",
       "   'vocabulary': 'NERC',\n",
       "   'vocableValue': 'https://vocab.nerc.ac.uk/collection/W03/current/W030002/',\n",
       "   'vocableGroup': '2ea05127-95fd-4f2d-aa68-82ea0283aaaf'}},\n",
       " {'@uuid': '93966b09-ec1c-42f1-b34a-6e0f41da13c4',\n",
       "  'id': 43289,\n",
       "  'startDate': '2020-09-01T07:03:00',\n",
       "  'endDate': '2020-09-01T07:12:00',\n",
       "  'latitude': 53.919200000000004,\n",
       "  'longitude': 8.0048,\n",
       "  'elevation': 13.5,\n",
       "  'label': 'MOSES Sternfahrt 5 M-11',\n",
       "  'description': 'surface (1 m) bottom (15 m)',\n",
       "  'type': {'@uuid': '047a4f46-020b-4187-808a-6f245caebbc3',\n",
       "   'id': 187,\n",
       "   'lastModified': '2020-11-18T08:16:27.455',\n",
       "   'generalName': 'Deployment',\n",
       "   'systemName': 'Deployment',\n",
       "   'description': 'A device is deployed, means it is in operational use. Deployment applies to small-scale vehicles and ship-operated devices, such as CTD rosettes, buoys, etc.. ',\n",
       "   'vocabulary': 'NERC',\n",
       "   'vocableValue': 'https://vocab.nerc.ac.uk/collection/W03/current/W030002/',\n",
       "   'vocableGroup': '2ea05127-95fd-4f2d-aa68-82ea0283aaaf'}},\n",
       " {'@uuid': 'e1494671-757a-415a-85d0-27503b8bc67f',\n",
       "  'id': 43290,\n",
       "  'startDate': '2020-09-01T07:35:00',\n",
       "  'endDate': '2020-09-01T07:44:00',\n",
       "  'latitude': 53.857749999999996,\n",
       "  'longitude': 8.0054,\n",
       "  'elevation': 19.0,\n",
       "  'label': 'MOSES Sternfahrt 5 M-12',\n",
       "  'description': 'surface (1 m) bottom (20 m)',\n",
       "  'type': {'@uuid': '047a4f46-020b-4187-808a-6f245caebbc3',\n",
       "   'id': 187,\n",
       "   'lastModified': '2020-11-18T08:16:27.455',\n",
       "   'generalName': 'Deployment',\n",
       "   'systemName': 'Deployment',\n",
       "   'description': 'A device is deployed, means it is in operational use. Deployment applies to small-scale vehicles and ship-operated devices, such as CTD rosettes, buoys, etc.. ',\n",
       "   'vocabulary': 'NERC',\n",
       "   'vocableValue': 'https://vocab.nerc.ac.uk/collection/W03/current/W030002/',\n",
       "   'vocableGroup': '2ea05127-95fd-4f2d-aa68-82ea0283aaaf'}}]"
      ]
     },
     "execution_count": 14,
     "metadata": {},
     "output_type": "execute_result"
    }
   ],
   "source": [
    "\n",
    "a.events(456, geo = True)[5:13]\n",
    "#a.item(456)"
   ]
  },
  {
   "cell_type": "markdown",
   "id": "cd477184",
   "metadata": {
    "ein.tags": "worksheet-0",
    "slideshow": {
     "slide_type": "-"
    }
   },
   "source": [
    "\n",
    "Checking who is in charge (or at least knows who is). Again, this works either with the complete urn or by submitting the id:"
   ]
  },
  {
   "cell_type": "code",
   "execution_count": 20,
   "id": "029e122b",
   "metadata": {
    "autoscroll": false,
    "collapsed": false,
    "ein.hycell": false,
    "ein.tags": "worksheet-0",
    "slideshow": {
     "slide_type": "-"
    }
   },
   "outputs": [
    {
     "data": {
      "text/plain": [
       "[{'@uuid': '9d1e4586-cb85-43a6-b6f6-774b4102c4d8',\n  'id': 21453,\n  'contact': {'@uuid': '3943c7f0-39d9-47b8-b2d9-9b2e6d48299b',\n   'id': 21,\n   'lastModified': '2020-11-18T08:16:26.834',\n   'firstName': 'Philipp',\n   'lastName': 'Fischer',\n   'email': 'philipp.fischer@awi.de',\n   'telephone': '+49(4725)819-3344',\n   'postalCode': '',\n   'city': 'Helgoland',\n   'administrativeArea': '',\n   'country': '',\n   'companyName': 'Alfred Wegener Institute, Helmholtz Centre for Polar and Marine Research'},\n  'role': {'@uuid': '9e7a0ba6-cea4-4f45-9146-38311bde9395',\n   'id': 5,\n   'lastModified': '2020-11-18T08:15:17.952',\n   'generalName': 'Principal Investigator',\n   'systemName': 'Principal_Investigator',\n   'description': 'Key party responsible for gathering information and conducting research',\n   'vocabulary': 'AWI',\n   'vocableValue': 'https://vocab.nerc.ac.uk/collection/G04/current/008',\n   'vocableGroup': {'@uuid': 'aa18bd44-2a65-4e43-bdd8-d7400467116b',\n    'id': 2,\n    'name': 'Contact Roles',\n    'systemName': 'ContactRoles'}}},\n {'@uuid': '77eda014-8e7e-4cc9-9fe6-f80ba64fadfd',\n  'id': 21454,\n  'contact': {'@uuid': '3943c7f0-39d9-47b8-b2d9-9b2e6d48299b',\n   'id': 21,\n   'lastModified': '2020-11-18T08:16:26.834',\n   'firstName': 'Philipp',\n   'lastName': 'Fischer',\n   'email': 'philipp.fischer@awi.de',\n   'telephone': '+49(4725)819-3344',\n   'postalCode': '',\n   'city': 'Helgoland',\n   'administrativeArea': '',\n   'country': '',\n   'companyName': 'Alfred Wegener Institute, Helmholtz Centre for Polar and Marine Research'},\n  'role': {'@uuid': '74fd3d66-64db-448a-9bdf-33f16c9825eb',\n   'id': 239,\n   'lastModified': '2020-11-18T08:15:17.95',\n   'generalName': 'Editor',\n   'systemName': 'Editor',\n   'description': 'A person with the permission to modify items',\n   'vocabulary': 'AWI',\n   'vocableValue': 'Editor',\n   'vocableGroup': 'aa18bd44-2a65-4e43-bdd8-d7400467116b'}},\n {'@uuid': '990ff4e9-a961-4f36-b015-a13cf4ee33fe',\n  'id': 21455,\n  'contact': {'@uuid': '775da600-f48b-4ee3-8c4f-20acfbe95d30',\n   'id': 169,\n   'lastModified': '2020-11-18T08:15:09.234',\n   'firstName': 'Ingeborg',\n   'lastName': 'Bussmann',\n   'email': 'ingeborg.bussmann@awi.de',\n   'orcid': '',\n   'telephone': '+49(4725)819-3230',\n   'postalCode': '',\n   'city': 'Helgoland',\n   'administrativeArea': '',\n   'country': '',\n   'companyName': 'Alfred Wegener Institute, Helmholtz Centre for Polar and Marine Research'},\n  'role': {'@uuid': '9e7a0ba6-cea4-4f45-9146-38311bde9395',\n   'id': 5,\n   'lastModified': '2020-11-18T08:15:17.952',\n   'generalName': 'Principal Investigator',\n   'systemName': 'Principal_Investigator',\n   'description': 'Key party responsible for gathering information and conducting research',\n   'vocabulary': 'AWI',\n   'vocableValue': 'https://vocab.nerc.ac.uk/collection/G04/current/008',\n   'vocableGroup': {'@uuid': 'aa18bd44-2a65-4e43-bdd8-d7400467116b',\n    'id': 2,\n    'name': 'Contact Roles',\n    'systemName': 'ContactRoles'}}},\n {'@uuid': '9d374184-e221-4c31-bb26-f2836d51a6fb',\n  'id': 21452,\n  'contact': {'@uuid': '3e95c8b7-15e1-499b-b2eb-3c3884e32361',\n   'id': 442,\n   'lastModified': '2020-11-18T08:16:26.834',\n   'firstName': 'Norbert',\n   'lastName': 'Anselm',\n   'email': 'norbert.anselm@awi.de',\n   'orcid': '0000-0003-0367-6850',\n   'telephone': '+49(471)4831-1095',\n   'postalCode': '27570',\n   'city': 'Bremerhaven',\n   'administrativeArea': 'string',\n   'country': 'Germany',\n   'companyName': 'Alfred Wegener Institute, Helmholtz Centre for Polar and Marine Research'},\n  'role': {'@uuid': '74fd3d66-64db-448a-9bdf-33f16c9825eb',\n   'id': 239,\n   'lastModified': '2020-11-18T08:15:17.95',\n   'generalName': 'Editor',\n   'systemName': 'Editor',\n   'description': 'A person with the permission to modify items',\n   'vocabulary': 'AWI',\n   'vocableValue': 'Editor',\n   'vocableGroup': 'aa18bd44-2a65-4e43-bdd8-d7400467116b'}},\n {'@uuid': '6307762a-a9f8-4161-9aaf-039db35bb591',\n  'id': 21456,\n  'contact': {'@uuid': '3d98db93-39f9-40f2-b7fd-276e4d4deb78',\n   'id': 635,\n   'lastModified': '2021-03-04T18:22:04.537',\n   'firstName': 'Lea',\n   'lastName': 'Happel',\n   'email': 'lea.happel@awi.de',\n   'orcid': '',\n   'telephone': '+49(4725)819-3149',\n   'postalCode': '',\n   'city': 'Helgoland',\n   'administrativeArea': '',\n   'country': '',\n   'companyName': 'Alfred Wegener Institute, Helmholtz Centre for Polar and Marine Research'},\n  'role': {'@uuid': '74fd3d66-64db-448a-9bdf-33f16c9825eb',\n   'id': 239,\n   'lastModified': '2020-11-18T08:15:17.95',\n   'generalName': 'Editor',\n   'systemName': 'Editor',\n   'description': 'A person with the permission to modify items',\n   'vocabulary': 'AWI',\n   'vocableValue': 'Editor',\n   'vocableGroup': 'aa18bd44-2a65-4e43-bdd8-d7400467116b'}}]"
      ]
     },
     "execution_count": 20,
     "metadata": {},
     "output_type": "execute_result"
    }
   ],
   "source": [
    "\n",
    "a.contacts(8767)"
   ]
  },
  {
   "cell_type": "markdown",
   "id": "f9fbd85a",
   "metadata": {
    "ein.tags": "worksheet-0",
    "slideshow": {
     "slide_type": "-"
    }
   },
   "source": [
    "\n",
    "What items are mounted/attached to the respective item.\n",
    "\n"
   ]
  },
  {
   "cell_type": "code",
   "execution_count": 22,
   "id": "3c4ad592",
   "metadata": {
    "autoscroll": false,
    "collapsed": false,
    "ein.hycell": false,
    "ein.tags": "worksheet-0",
    "slideshow": {
     "slide_type": "-"
    }
   },
   "outputs": [
    {
     "data": {
      "text/plain": [
       "[{'@uuid': '4803a9af-a7be-4e81-9556-b5f697e8d6bf',\n  'id': 508,\n  'created': '2016-06-13T22:00:00',\n  'lastModified': '2024-01-17T18:17:14.011',\n  'code': 'vessel:mya_ii:fb_741202',\n  'shortName': 'FB_741202',\n  'longName': 'Ferrybox Mya II',\n  'description': 'The 4H FerryBox is an autonomous, low maintenance mertrology system which has been developed especially for permanent deployment on ships, metrology platforms and river measurement points. Due to its special architecture, the system is able to link a multitude of sensors and automatic analysis devices and even perform measurements in difficult media (such as sea water or bubbling water etc.). The entire sensor system is an integral part of the anti-fouling concept whereby the maintenance requirement is held to a minimum. ',\n  'model': '4H Ferrybox',\n  'manufacturer': '4H-Jena Engineering',\n  'serialNumber': '741202',\n  'inventoryNumber': '',\n  'citation': '10013/sensor.1cde5be5-4783-4252-87d2-cf29cd1f7b80',\n  'parentId': 456,\n  'status': {'@uuid': 'a080ff68-30b2-450a-9a44-06ecd244c0b7',\n   'id': 1,\n   'lastModified': '2020-11-18T08:14:53.011',\n   'name': 'public',\n   'meta': 'Item is completely described and operational.'},\n  'type': {'@uuid': 'a3083189-c77c-47f4-8ef5-02b72deb5bcb',\n   'id': 199,\n   'lastModified': '2022-09-14T08:12:33.445',\n   'generalName': 'small scale facility',\n   'systemName': 'small_scale_facility',\n   'description': '',\n   'vocabulary': 'AWI',\n   'vocableValue': 'AWI',\n   'vocableGroup': {'@uuid': '85694c85-5aee-441f-a88a-a6bb8f1d0885',\n    'id': 7,\n    'name': 'Device Types',\n    'systemName': 'DeviceTypes'}},\n  'version': 1},\n {'@uuid': 'ce1a69cc-de59-456f-adcf-f9f7640dd2fe',\n  'id': 576,\n  'created': '2016-07-17T22:00:00',\n  'lastModified': '2024-01-17T18:17:14.077',\n  'code': 'vessel:mya_ii:motion',\n  'shortName': 'Motion',\n  'longName': 'GPS-Receiver F185',\n  'description': 'The F180® series is a range of GPS aided attitude and positioning systems that provide high quality and precise reference data for a number of marine applications including multibeam surveys and dynamic positioning projects. Blending together GNSS information with an inertial engine, the F180® series outputs Kalman filtered heading, position, heave, pitch and roll variables even in the most demanding of offshore conditions.',\n  'model': 'F185',\n  'manufacturer': 'Coda Octopus',\n  'serialNumber': 'F0712185',\n  'inventoryNumber': '',\n  'citation': '10013/sensor.f790453d-f295-411a-bcd0-95d97f476cac',\n  'parentId': 456,\n  'status': 'a080ff68-30b2-450a-9a44-06ecd244c0b7',\n  'type': {'@uuid': '7406ce34-4b6e-4258-9cce-19a4b68661af',\n   'id': 147,\n   'lastModified': '2020-11-18T08:16:20.751',\n   'generalName': 'satellite positioning system',\n   'systemName': 'satellite_positioning_system',\n   'description': 'A network of statellites that generate signals that allow a receiver to determine its position such as GPS.',\n   'vocabulary': 'NERC',\n   'vocableValue': 'https://vocab.nerc.ac.uk/collection/L05/current/301',\n   'vocableGroup': '85694c85-5aee-441f-a88a-a6bb8f1d0885'},\n  'version': 3},\n {'@uuid': 'b0638487-abb2-42e7-808c-27562852029b',\n  'id': 1225,\n  'lastModified': '2024-01-17T18:17:14.149',\n  'code': 'vessel:mya_ii:dgps',\n  'shortName': 'DGPS',\n  'longName': 'GPS-Receiver GP-150',\n  'description': 'FURUNO GP150 is a GPS navigator designed for the SOLAS ships according to the GPS performance standard IMO Res MSC.112(73) and associated IEC standards effective on and after July 1, 2003. It is a highly reliable standalone EPFS (electronic position fixing system) that feeds positioning information to AIS, Radar, VDR, VideoPlotter, Autopilot, Echo Sounder and Sonar.',\n  'model': 'Navigator GP-150',\n  'manufacturer': 'Furuno',\n  'serialNumber': '',\n  'inventoryNumber': '',\n  'citation': '10013/sensor.b61bc9b7-56cd-4cc8-83fc-86796c15e262',\n  'parentId': 456,\n  'status': 'a080ff68-30b2-450a-9a44-06ecd244c0b7',\n  'type': {'@uuid': '7406ce34-4b6e-4258-9cce-19a4b68661af',\n   'id': 147,\n   'lastModified': '2020-11-18T08:16:20.751',\n   'generalName': 'satellite positioning system',\n   'systemName': 'satellite_positioning_system',\n   'description': 'A network of statellites that generate signals that allow a receiver to determine its position such as GPS.',\n   'vocabulary': 'NERC',\n   'vocableValue': 'https://vocab.nerc.ac.uk/collection/L05/current/301',\n   'vocableGroup': '85694c85-5aee-441f-a88a-a6bb8f1d0885'},\n  'version': 0},\n {'@uuid': '9a631296-510a-4b42-b0c4-0aec920b5b00',\n  'id': 1312,\n  'lastModified': '2024-01-17T18:17:14.21',\n  'code': 'vessel:mya_ii:navlot',\n  'shortName': 'navlot',\n  'longName': 'Navigation Echosounder',\n  'description': '',\n  'model': 'Ultragraph 475d',\n  'manufacturer': 'Fahrentholz GmbH',\n  'serialNumber': '',\n  'inventoryNumber': '',\n  'citation': '10013/sensor.7e9e1a1a-f0c7-463d-8fda-4c11dea6d093',\n  'parentId': 456,\n  'status': 'a080ff68-30b2-450a-9a44-06ecd244c0b7',\n  'type': {'@uuid': '062397bd-7864-4a07-a040-1d41d7b2fbda',\n   'id': 219,\n   'lastModified': '2020-11-18T08:16:20.751',\n   'generalName': 'not assigned',\n   'systemName': 'not_assigned',\n   'description': 'not assigned',\n   'vocabulary': 'AWI',\n   'vocableValue': 'not assigned',\n   'vocableGroup': '85694c85-5aee-441f-a88a-a6bb8f1d0885'},\n  'version': 0},\n {'@uuid': 'e288223d-6840-48a7-b135-14d4a686a62a',\n  'id': 2834,\n  'lastModified': '2024-01-17T18:17:14.285',\n  'code': 'vessel:mya_ii:myaseabeam',\n  'shortName': 'myaseabeam',\n  'longName': 'Seabeam 1185',\n  'description': 'Multibeam echo sounder L3 Elac Seabeam 1185. This system operates with frequency of 180 kHz. ',\n  'model': 'Seabeam 1185',\n  'manufacturer': 'L3 Elac',\n  'serialNumber': '143',\n  'inventoryNumber': '',\n  'citation': '10013/sensor.c9987534-aadd-44f7-9ba3-5f055f9948fe',\n  'parentId': 456,\n  'status': 'a080ff68-30b2-450a-9a44-06ecd244c0b7',\n  'type': {'@uuid': '7bea66ac-bec1-414d-8210-126420577652',\n   'id': 266,\n   'lastModified': '2020-11-18T08:16:20.753',\n   'generalName': 'multi-beam echosounder',\n   'systemName': 'multi_beam_echosounder',\n   'description': 'Instruments that measure water depth along several tracks parallel to the platform track by timing pulses of sound reflected on the seafloor.',\n   'vocabulary': 'NERC',\n   'vocableValue': 'https://vocab.nerc.ac.uk/collection/L05/current/157',\n   'vocableGroup': '85694c85-5aee-441f-a88a-a6bb8f1d0885'},\n  'version': 0},\n {'@uuid': '64e7ead3-8010-4558-a234-18ba6282d7af',\n  'id': 2835,\n  'lastModified': '2024-01-17T18:17:14.354',\n  'code': 'vessel:mya_ii:adcp18818',\n  'shortName': 'ADCP18818',\n  'longName': 'ADCP Workhorse Mariner 600 kHz',\n  'description': '',\n  'model': 'WHMVM600-I',\n  'manufacturer': 'Teledyne RDI',\n  'serialNumber': '18818',\n  'inventoryNumber': '',\n  'citation': '10013/sensor.f19b9896-6294-4270-8f07-97180b4499d2',\n  'parentId': 456,\n  'status': 'a080ff68-30b2-450a-9a44-06ecd244c0b7',\n  'type': {'@uuid': '1e4b1257-131f-465b-81d7-ede5e893db99',\n   'id': 269,\n   'lastModified': '2020-11-18T08:16:20.753',\n   'generalName': 'acoustic backscatter sensor',\n   'systemName': 'acoustic_backscatter_sensor',\n   'description': 'Instrument that measures the amount of sound energy transmitted into the water column returned to the instrument.',\n   'vocabulary': 'NERC',\n   'vocableValue': 'https://vocab.nerc.ac.uk/collection/L05/current/183',\n   'vocableGroup': '85694c85-5aee-441f-a88a-a6bb8f1d0885'},\n  'version': 0},\n {'@uuid': '5ebb94bb-1417-4bbd-a656-675c021afde8',\n  'id': 2838,\n  'lastModified': '2024-01-17T18:17:14.426',\n  'code': 'vessel:mya_ii:eml224',\n  'shortName': 'eml224',\n  'longName': 'Scipper EM Log 224 Compact',\n  'description': '',\n  'model': 'EML224 Compact',\n  'manufacturer': 'Skipper',\n  'serialNumber': '',\n  'inventoryNumber': '',\n  'citation': '10013/sensor.59d0751a-7a43-4167-9f88-9885e8e689e2',\n  'parentId': 456,\n  'status': 'a080ff68-30b2-450a-9a44-06ecd244c0b7',\n  'type': {'@uuid': '2327dde7-a06f-40cf-85cf-a08991a3d0c4',\n   'id': 289,\n   'lastModified': '2022-07-01T12:02:14.946',\n   'generalName': 'speed log',\n   'systemName': 'speed_log',\n   'description': 'Instrument that measures current speed and direction at a single depth.',\n   'vocabulary': 'NERC',\n   'vocableValue': 'https://vocab.nerc.ac.uk/collection/L05/current/114/',\n   'vocableGroup': '85694c85-5aee-441f-a88a-a6bb8f1d0885'},\n  'version': 0},\n {'@uuid': 'e5ef6e37-3545-42f8-a23b-f45c622a2cf7',\n  'id': 2868,\n  'lastModified': '2024-01-17T18:17:14.492',\n  'code': 'vessel:mya_ii:seasunctd778',\n  'shortName': 'SeaSunCTD778',\n  'longName': 'Sea and Sun CTD',\n  'description': 'The CTD90M memory probe is a microprocessor controlled multiparameter probe for precise online measurements as well as for self-contained operation in deep and shallow water. Apart of the CTD sensors it is possible to interface a number of chemical, physical and optical sensors and instruments. The housing of the probe is pressure resistant up to 500m depth, the maximum allowable operation depth depends on the sensors line-up. In spite of its relative big size the standard CTD has a weight of approximately 4.5kg due to the fact that it is completely made of titanium. The housing is inert against nearly all chemical compounds (except hydrofluoric acid) and absolutely corrosion free.',\n  'model': 'CTD90M',\n  'manufacturer': 'Sea and Sun Technology GmbH',\n  'serialNumber': '778',\n  'inventoryNumber': '',\n  'citation': '10013/sensor.3b4a7f73-18fc-4679-98e0-25123eda21e8',\n  'parentId': 456,\n  'status': 'a080ff68-30b2-450a-9a44-06ecd244c0b7',\n  'type': {'@uuid': '3878c04e-251e-4a43-b700-af1cfea30730',\n   'id': 143,\n   'lastModified': '2020-11-18T08:16:20.754',\n   'generalName': 'sound velocity sensor',\n   'systemName': 'sound_velocity_sensor',\n   'description': 'Instrument that measures the velocity of sound in seawater.',\n   'vocabulary': 'NERC',\n   'vocableValue': 'https://vocab.nerc.ac.uk/collection/L05/current/185',\n   'vocableGroup': '85694c85-5aee-441f-a88a-a6bb8f1d0885'},\n  'version': 0},\n {'@uuid': 'b06e4ed6-0819-463c-a93e-10625c49951f',\n  'id': 2869,\n  'lastModified': '2024-01-17T18:17:14.56',\n  'code': 'vessel:mya_ii:resonsvp70_0618160',\n  'shortName': 'ResonSVP70_0618160',\n  'longName': 'Reson SVP 70',\n  'description': '',\n  'model': 'SVP 70',\n  'manufacturer': 'Reson',\n  'serialNumber': '0618160',\n  'inventoryNumber': '',\n  'citation': '10013/sensor.8b471996-bfc4-44a4-86ef-301ebaa68869',\n  'parentId': 456,\n  'status': 'a080ff68-30b2-450a-9a44-06ecd244c0b7',\n  'type': {'@uuid': '1e4b1257-131f-465b-81d7-ede5e893db99',\n   'id': 269,\n   'lastModified': '2020-11-18T08:16:20.753',\n   'generalName': 'acoustic backscatter sensor',\n   'systemName': 'acoustic_backscatter_sensor',\n   'description': 'Instrument that measures the amount of sound energy transmitted into the water column returned to the instrument.',\n   'vocabulary': 'NERC',\n   'vocableValue': 'https://vocab.nerc.ac.uk/collection/L05/current/183',\n   'vocableGroup': '85694c85-5aee-441f-a88a-a6bb8f1d0885'},\n  'version': 2},\n {'@uuid': 'a4b61bd8-b36f-4ad9-8fa4-c295f77e4ab2',\n  'id': 7464,\n  'lastModified': '2024-01-17T18:17:14.618',\n  'code': 'vessel:mya_ii:ufz_baro_106884',\n  'shortName': 'UFZ_Baro_106884',\n  'longName': 'UFZ Barologger 0012106884',\n  'description': 'The Barologger Edge uses algorithms based on air pressure only. It measures and logs changes in atmospheric pressure, which are then used to compensate water level readings recorded by a Levelogger Edge, Levelogger Junior Edge, or LTC Levelogger Edge.',\n  'model': 'Barologger',\n  'manufacturer': 'Solinst',\n  'serialNumber': '0012106884',\n  'inventoryNumber': '',\n  'citation': '10013/sensor.6b510cd0-ce04-4a9b-88cf-33652ca5ec50',\n  'parentId': 456,\n  'status': 'a080ff68-30b2-450a-9a44-06ecd244c0b7',\n  'type': {'@uuid': '9affbf12-c340-42da-b3a9-6969b7fc5fb9',\n   'id': 462,\n   'lastModified': '2022-07-01T11:47:35.639',\n   'generalName': 'data logger',\n   'systemName': 'data_logger',\n   'description': 'Electronic devices that record data over time or in relation to location either with a built-in instrument or sensor or via external instruments and sensors. ',\n   'vocabulary': 'NERC',\n   'vocableValue': 'https://vocab.nerc.ac.uk/collection/L05/current/DLOG/ ',\n   'vocableGroup': '85694c85-5aee-441f-a88a-a6bb8f1d0885'},\n  'version': 2},\n {'@uuid': '7400b1f4-17a4-45ef-a581-ab1b7ec7441a',\n  'id': 7465,\n  'lastModified': '2024-01-17T18:17:14.701',\n  'code': 'vessel:mya_ii:ufz_level_78969',\n  'shortName': 'UFZ_Level_78969',\n  'longName': 'UFZ Levellogger 0171078969',\n  'description': 'The LTC Levelogger Edge provides an accurate and convenient method to measure level, temperature and conductivity all in one probe.',\n  'model': 'LTC Levelogger Edge ',\n  'manufacturer': 'Solinst',\n  'serialNumber': '0171078969',\n  'inventoryNumber': '',\n  'citation': '10013/sensor.fee61211-f93c-47f4-8224-65fa79bf102d',\n  'parentId': 456,\n  'status': 'a080ff68-30b2-450a-9a44-06ecd244c0b7',\n  'type': {'@uuid': '9affbf12-c340-42da-b3a9-6969b7fc5fb9',\n   'id': 462,\n   'lastModified': '2022-07-01T11:47:35.639',\n   'generalName': 'data logger',\n   'systemName': 'data_logger',\n   'description': 'Electronic devices that record data over time or in relation to location either with a built-in instrument or sensor or via external instruments and sensors. ',\n   'vocabulary': 'NERC',\n   'vocableValue': 'https://vocab.nerc.ac.uk/collection/L05/current/DLOG/ ',\n   'vocableGroup': '85694c85-5aee-441f-a88a-a6bb8f1d0885'},\n  'version': 2},\n {'@uuid': '43876148-51a7-4b27-967f-62fd716ae3ce',\n  'id': 7466,\n  'lastModified': '2024-01-17T18:17:14.774',\n  'code': 'vessel:mya_ii:ufz_level_78975',\n  'shortName': 'UFZ_Level_78975',\n  'longName': 'UFZ Levellogger 0171078975',\n  'description': 'The LTC Levelogger Edge provides an accurate and convenient method to measure level, temperature and conductivity all in one probe.',\n  'model': 'LTC Levellogger Edge',\n  'manufacturer': 'Solinst',\n  'serialNumber': '0171078975',\n  'inventoryNumber': '',\n  'citation': '10013/sensor.d89a78f4-7935-4f45-893d-05ae4f6bf28e',\n  'parentId': 456,\n  'status': 'a080ff68-30b2-450a-9a44-06ecd244c0b7',\n  'type': {'@uuid': '9affbf12-c340-42da-b3a9-6969b7fc5fb9',\n   'id': 462,\n   'lastModified': '2022-07-01T11:47:35.639',\n   'generalName': 'data logger',\n   'systemName': 'data_logger',\n   'description': 'Electronic devices that record data over time or in relation to location either with a built-in instrument or sensor or via external instruments and sensors. ',\n   'vocabulary': 'NERC',\n   'vocableValue': 'https://vocab.nerc.ac.uk/collection/L05/current/DLOG/ ',\n   'vocableGroup': '85694c85-5aee-441f-a88a-a6bb8f1d0885'},\n  'version': 2},\n {'@uuid': 'd2dbf797-e3e1-429d-b65d-e3f0c1dbd2b0',\n  'id': 7467,\n  'lastModified': '2024-01-17T18:17:14.851',\n  'code': 'vessel:mya_ii:ufz_level_78977',\n  'shortName': 'UFZ_Level_78977',\n  'longName': 'UFZ Levellogger 071078977',\n  'description': 'The LTC Levelogger Edge provides an accurate and convenient method to measure level, temperature and conductivity all in one probe.',\n  'model': 'LTC Levellogger Edge',\n  'manufacturer': 'Solinst',\n  'serialNumber': '071078977',\n  'inventoryNumber': '',\n  'citation': '10013/sensor.aa414da2-1a87-4337-b364-8e25420bea0e',\n  'parentId': 456,\n  'status': 'a080ff68-30b2-450a-9a44-06ecd244c0b7',\n  'type': {'@uuid': '9affbf12-c340-42da-b3a9-6969b7fc5fb9',\n   'id': 462,\n   'lastModified': '2022-07-01T11:47:35.639',\n   'generalName': 'data logger',\n   'systemName': 'data_logger',\n   'description': 'Electronic devices that record data over time or in relation to location either with a built-in instrument or sensor or via external instruments and sensors. ',\n   'vocabulary': 'NERC',\n   'vocableValue': 'https://vocab.nerc.ac.uk/collection/L05/current/DLOG/ ',\n   'vocableGroup': '85694c85-5aee-441f-a88a-a6bb8f1d0885'},\n  'version': 2},\n {'@uuid': '4a7875e1-8159-4861-8bcb-39750b6f8354',\n  'id': 7468,\n  'lastModified': '2024-01-17T18:17:14.927',\n  'code': 'vessel:mya_ii:ufz_level_78743',\n  'shortName': 'UFZ_level_78743',\n  'longName': 'UFZ Levellogger 0171078743',\n  'description': 'Ltc levelogger edge groundwater conductivity datalogger\\nThe LTC Levelogger Edge provides an accurate and convenient method to measure level, temperature and conductivity all in one probe.',\n  'model': 'Ltc levelogger edge',\n  'manufacturer': 'Solinst',\n  'serialNumber': '0171078743',\n  'inventoryNumber': '',\n  'citation': '10013/sensor.4ed83c79-aee6-4852-8d6f-a88b842dadae',\n  'parentId': 456,\n  'status': 'a080ff68-30b2-450a-9a44-06ecd244c0b7',\n  'type': {'@uuid': '9affbf12-c340-42da-b3a9-6969b7fc5fb9',\n   'id': 462,\n   'lastModified': '2022-07-01T11:47:35.639',\n   'generalName': 'data logger',\n   'systemName': 'data_logger',\n   'description': 'Electronic devices that record data over time or in relation to location either with a built-in instrument or sensor or via external instruments and sensors. ',\n   'vocabulary': 'NERC',\n   'vocableValue': 'https://vocab.nerc.ac.uk/collection/L05/current/DLOG/ ',\n   'vocableGroup': '85694c85-5aee-441f-a88a-a6bb8f1d0885'},\n  'version': 2},\n {'@uuid': '0c31f298-7096-4a98-b707-721b9d1dd2c0',\n  'id': 11500,\n  'lastModified': '2024-01-17T18:17:15.805',\n  'code': 'vessel:mya_ii:weather',\n  'shortName': 'Weather',\n  'longName': 'Weather Station',\n  'description': 'Autonomouos weather station providing air and water temperature, rel. air humidity and air pressure',\n  'model': '',\n  'manufacturer': '',\n  'serialNumber': '',\n  'inventoryNumber': '',\n  'citation': '10013/sensor.aea83de7-1506-40cd-ae2c-6a5ee7a7bc86',\n  'parentId': 456,\n  'status': 'a080ff68-30b2-450a-9a44-06ecd244c0b7',\n  'type': {'@uuid': '7be0c605-0621-4425-bfb7-7374c5fccded',\n   'id': 172,\n   'lastModified': '2020-11-18T08:16:20.755',\n   'generalName': 'meteorological package',\n   'systemName': 'meteorological_package',\n   'description': 'Instrument that makes routine meteorological measurements on the atmosphere, typically air pressure, temperature and humidity.',\n   'vocabulary': 'NERC',\n   'vocableValue': 'https://vocab.nerc.ac.uk/collection/L05/current/102',\n   'vocableGroup': '85694c85-5aee-441f-a88a-a6bb8f1d0885'},\n  'version': 1}]"
      ]
     },
     "execution_count": 22,
     "metadata": {},
     "output_type": "execute_result"
    }
   ],
   "source": [
    "a.subitems(456)"
   ]
  }
 ],
 "metadata": {
  "kernelspec": {
   "argv": [
    "python",
    "-m",
    "ipykernel_launcher",
    "-f",
    "{connection_file}"
   ],
   "display_name": "Python 3 (ipykernel)",
   "env": null,
   "interrupt_mode": "signal",
   "language": "python",
   "metadata": {
    "debugger": true
   },
   "name": "python3"
  },
  "language_info": {
   "codemirror_mode": {
    "name": "ipython",
    "version": 3
   },
   "file_extension": ".py",
   "mimetype": "text/x-python",
   "name": "python",
   "nbconvert_exporter": "python",
   "pygments_lexer": "ipython3",
   "version": "3.10.12"
  },
  "name": "showcase.ipynb"
 },
 "nbformat": 4,
 "nbformat_minor": 5
}
